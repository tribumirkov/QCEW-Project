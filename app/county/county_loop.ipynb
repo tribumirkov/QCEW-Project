{
 "cells": [
  {
   "cell_type": "code",
   "execution_count": 9,
   "metadata": {},
   "outputs": [],
   "source": [
    "import re\n",
    "\n",
    "import cvxpy as cp\n",
    "import numpy as np\n",
    "import pandas as pd\n",
    "from pydantic import BaseSettings\n",
    "import plotly.graph_objects as go\n"
   ]
  },
  {
   "cell_type": "code",
   "execution_count": 10,
   "metadata": {},
   "outputs": [],
   "source": [
    "the_year = 2021\n",
    "county_code = '13121'"
   ]
  },
  {
   "cell_type": "code",
   "execution_count": 11,
   "metadata": {},
   "outputs": [],
   "source": [
    "class Settings(BaseSettings):\n",
    "    qcew_api_url = 'http://data.bls.gov/cew/data/api'\n",
    "\n",
    "    ownership_code = 5\n",
    "\n",
    "    root_aggregation = 71\n",
    "    highest_aggregation = 74\n",
    "    lowest_aggregation = 78\n",
    "    max_digits_of_naics = 6\n",
    "\n",
    "    string_connecting_codes = '_'\n",
    "\n",
    "    establishments = 'annual_avg_estabs'\n",
    "    employment = 'annual_avg_emplvl'\n",
    "    wages = 'total_annual_wages'\n",
    "\n",
    "    employment_abbreviation = 'emp'\n",
    "    wages_abbreviation = 'wages'\n",
    "\n",
    "settings = Settings()"
   ]
  },
  {
   "cell_type": "code",
   "execution_count": 12,
   "metadata": {},
   "outputs": [],
   "source": [
    "def fetch_area_data(year, quarter, area):\n",
    "    \"\"\"\n",
    "    Return a pandas table from BLS given year, quarter (a for year), and area code\n",
    "    \"\"\"\n",
    "    url_path = f'{settings.qcew_api_url}/{year}/{quarter}/area/{area}.csv'\n",
    "    df = pd.read_csv(url_path)\n",
    "    df['industry_code'] = df['industry_code'].str.replace(\n",
    "        '-',\n",
    "        settings.string_connecting_codes\n",
    "    )\n",
    "    return df, url_path\n",
    "\n",
    "\n",
    "df, url = fetch_area_data(the_year,'a',county_code)"
   ]
  },
  {
   "cell_type": "code",
   "execution_count": 13,
   "metadata": {},
   "outputs": [],
   "source": [
    "def adjust_aggregation_code(aggregation):\n",
    "    \"\"\"\n",
    "    Return aggregation code that skips 72, and 73\n",
    "    \"\"\"\n",
    "    aggregation_levels = list(\n",
    "        range(\n",
    "            settings.highest_aggregation, settings.lowest_aggregation + 1\n",
    "        )\n",
    "    )\n",
    "    aggregation_levels.append(settings.root_aggregation)\n",
    "    if aggregation in aggregation_levels:\n",
    "        return aggregation\n",
    "    if settings.root_aggregation < aggregation < settings.highest_aggregation:\n",
    "        return settings.highest_aggregation\n",
    "    raise Exception('Aggregation level code unknown.')\n",
    "\n",
    "\n",
    "def get_children_codes(df, code, aggregation):\n",
    "    \"\"\"\n",
    "    Return a list of children codes\n",
    "    \"\"\"\n",
    "    if settings.string_connecting_codes in code:\n",
    "        search_it = tuple([str(number) for number in range(int(code[0:2]), int(code[-2:]) + 1)])\n",
    "    else:\n",
    "        search_it = code\n",
    "    if search_it == '10':\n",
    "        where = (df['agglvl_code']==settings.highest_aggregation) & \\\n",
    "                (df['own_code']==settings.ownership_code)\n",
    "    else:\n",
    "        where = (df['industry_code'].str.startswith(search_it)) & \\\n",
    "                (df['own_code']==settings.ownership_code) & \\\n",
    "                (df['agglvl_code']==aggregation+1)\n",
    "    return sorted(np.unique(df['industry_code'][where].values))\n",
    "\n",
    "\n",
    "def get_variables(df, code, aggregation):\n",
    "    \"\"\"\n",
    "    Return variables of interest given industry code\n",
    "    \"\"\"\n",
    "    ownership_code = settings.ownership_code\n",
    "    where = (df['industry_code']==code) & \\\n",
    "            (df['agglvl_code']==aggregation) & \\\n",
    "            (df['own_code']==ownership_code)\n",
    "    est = df[where][f'{settings.establishments}'].values[0]\n",
    "    emp = df[where][f'{settings.employment}'].values[0]\n",
    "    wages = df[where][f'{settings.wages}'].values[0]\n",
    "    return est, emp, wages\n",
    "\n",
    "\n",
    "def build_tree(df, code, aggregation):\n",
    "    \"\"\"\n",
    "    Return the complete tree with nodes and leaves\n",
    "    \"\"\"\n",
    "    if code is not None:\n",
    "        aggregation = adjust_aggregation_code(aggregation)\n",
    "        est, emp, wages = get_variables(df, code, aggregation)\n",
    "        children_codes = get_children_codes(df, code, aggregation)\n",
    "        children = []\n",
    "        if aggregation <= settings.lowest_aggregation:\n",
    "            for child_code in children_codes:\n",
    "                children.append(build_tree(df, child_code, aggregation+1))\n",
    "        return {'ind': code, 'est': est, 'emp': emp, 'wages': wages,'children':children}\n",
    "\n",
    "county = build_tree(df, '10', 71)"
   ]
  },
  {
   "cell_type": "code",
   "execution_count": 15,
   "metadata": {},
   "outputs": [],
   "source": [
    "def get_objective(tree, key, objective):\n",
    "    \"\"\"\n",
    "    Return the objective function as key_10 - sum (key_6digits)\n",
    "    \"\"\"\n",
    "    if len(tree['children'])==0:\n",
    "        if tree[key] == 0:\n",
    "            objective += f\" - {tree['est']}*{key[0]}pe_{tree['ind']}\"\n",
    "        else:\n",
    "            objective += f\" - {tree[key]}\"\n",
    "    for child in tree['children']:\n",
    "        objective = get_objective(child, key, objective)\n",
    "    return objective\n",
    "\n",
    "    \n",
    "objective_function = get_objective(county, 'emp', str(county['emp']))"
   ]
  },
  {
   "cell_type": "code",
   "execution_count": 16,
   "metadata": {},
   "outputs": [],
   "source": [
    "def get_constraints(tree, key, constraints):\n",
    "    \"\"\"\n",
    "    Return all the constraints in a tree\n",
    "    \"\"\"\n",
    "    if len(tree['children'])>0:\n",
    "        if tree[key] == 0:\n",
    "            constraint = f\"{tree['est']}*{key[0]}pe_{tree['ind']} = \"\n",
    "        else:\n",
    "            constraint = f\"{tree[key]} = \"\n",
    "        for i,child in enumerate(tree['children']):\n",
    "            if i > 0:\n",
    "                constraint += ' + '\n",
    "            if child[key] == 0:\n",
    "                constraint+= f\"{child['est']}*{key[0]}pe_{child['ind']} \"\n",
    "            else:\n",
    "                constraint+= f\"{child[key]}\"\n",
    "        if 'epe' in constraint:\n",
    "            check = constraint.split(' = ')\n",
    "            if check[0] != check[1]:\n",
    "                constraints.append(constraint)\n",
    "    for child in tree['children']:\n",
    "        constraints = get_constraints(child, key, constraints)\n",
    "    return constraints\n",
    "\n",
    "\n",
    "constraints = get_constraints(county, 'emp', [])"
   ]
  },
  {
   "cell_type": "code",
   "execution_count": 17,
   "metadata": {},
   "outputs": [],
   "source": [
    "def get_optimization_variables(constraints, key):\n",
    "    \"\"\"\n",
    "    Return a list of variables from constraints\n",
    "    \"\"\"\n",
    "    variables = []\n",
    "    if key == settings.employment_abbreviation:\n",
    "        regex = r\"epe_[^ ]* \"\n",
    "    elif key == settings.wages_abbreviation:\n",
    "        regex = r\"wpe_[^ ]* \"\n",
    "    else:\n",
    "        raise Exception(\n",
    "            f'''\n",
    "            Unknown variable abbreviation:\n",
    "            it can be either {settings.employment_abbreviation} or {settings.wages_abbreviation}\n",
    "            '''\n",
    "        )\n",
    "    for constraint in constraints:\n",
    "        variables+=re.findall(regex, constraint)\n",
    "    return list(np.unique(variables))\n",
    "\n",
    "\n",
    "variables = get_optimization_variables(constraints, 'emp')"
   ]
  },
  {
   "cell_type": "code",
   "execution_count": 18,
   "metadata": {},
   "outputs": [],
   "source": [
    "for variable in list(np.unique(variables)):\n",
    "    exec(f\"{variable} = cp.Variable()\")"
   ]
  },
  {
   "cell_type": "code",
   "execution_count": 19,
   "metadata": {},
   "outputs": [],
   "source": [
    "exec(f\"objective = cp.Minimize(cp.abs({objective_function}))\")"
   ]
  },
  {
   "cell_type": "code",
   "execution_count": 20,
   "metadata": {},
   "outputs": [],
   "source": [
    "numerical_constraints = []\n",
    "for i,constraint in enumerate(constraints):\n",
    "    if i > 0:\n",
    "        numerical_constraints.append(eval(f\"{constraint.replace('=','==')}\"))\n",
    "for variable in list(np.unique(variables)):\n",
    "    numerical_constraints.append(eval(f\"{variable}>= 0\"))"
   ]
  },
  {
   "cell_type": "code",
   "execution_count": 21,
   "metadata": {},
   "outputs": [
    {
     "data": {
      "text/plain": [
       "4.000000000713044"
      ]
     },
     "execution_count": 21,
     "metadata": {},
     "output_type": "execute_result"
    }
   ],
   "source": [
    "problem = cp.Problem(objective, numerical_constraints)\n",
    "problem.solve(solver=cp.ECOS)"
   ]
  },
  {
   "cell_type": "code",
   "execution_count": 23,
   "metadata": {},
   "outputs": [],
   "source": [
    "def fetch_branch(tree, key, value):\n",
    "    \"\"\"\n",
    "    Find key - value pair in the tree\n",
    "    \"\"\"\n",
    "    if tree.get(key) == value:\n",
    "        return tree\n",
    "    for child in tree['children']:\n",
    "        match = fetch_branch(child, key, value)\n",
    "        if match is not None:\n",
    "            return match\n",
    "\n",
    "\n",
    "def write_into(tree, key, value, data):\n",
    "    \"\"\"\n",
    "    Return the tree with data written in the given node\n",
    "    \"\"\"\n",
    "    if tree.get(key) == value:\n",
    "        for data_key in data.keys():\n",
    "            tree[data_key] = data[data_key]\n",
    "    else:\n",
    "        for child in tree['children']:\n",
    "            write_into(child, key, value, data)\n",
    "    return tree\n",
    "\n",
    "\n",
    "for variable in variables:\n",
    "    ind = variable[variable.find('_')+1:-1]\n",
    "    branch = fetch_branch(county, 'ind', ind)\n",
    "    if branch['emp'] == 0:\n",
    "        write_into(\n",
    "            county, 'ind', branch['ind'],\n",
    "            {'emp_lp': branch['est'] * eval(f\"float({variable}.value)\")}\n",
    "        )\n"
   ]
  },
  {
   "cell_type": "code",
   "execution_count": 25,
   "metadata": {},
   "outputs": [],
   "source": [
    "def fetch_values_given_key(tree, key, values):\n",
    "    \"\"\"\n",
    "    Return all the values in the tree given a key e.g. 'ind'\n",
    "    \"\"\"\n",
    "    if tree.get(key) is not None:\n",
    "        values.append(tree[key])\n",
    "    if len(tree['children']) > 0:\n",
    "        for child in tree['children']:\n",
    "            values = fetch_values_given_key(child, key, values)\n",
    "    return values\n",
    "\n",
    "\n",
    "def save_data_to_time_series(time_series, county, industry_codes, key, year):\n",
    "    \"\"\"\n",
    "    Returns time series that contains all the industries across time\n",
    "    \"\"\"\n",
    "    for ind in industry_codes:\n",
    "        industry = fetch_branch(county, 'ind', ind)\n",
    "        if industry is not None:\n",
    "            if industry.get(f'{key}_lp') is not None:\n",
    "                time_series.at[year, ind] = industry[f'{key}_lp']\n",
    "            else:\n",
    "                time_series.at[year, ind] = industry[f'{key}']\n",
    "    return time_series"
   ]
  },
  {
   "cell_type": "code",
   "execution_count": 30,
   "metadata": {},
   "outputs": [],
   "source": [
    "years = list(range(2014,2021+1))\n",
    "industry_codes = []\n",
    "for year in years:\n",
    "    df, url = fetch_area_data(year,'a',county_code)\n",
    "    county = build_tree(df, '10', 71)\n",
    "    industry_codes+=fetch_values_given_key(county, 'ind', [])\n",
    "employment_series = pd.DataFrame([], columns=np.unique(industry_codes))"
   ]
  },
  {
   "cell_type": "code",
   "execution_count": 31,
   "metadata": {},
   "outputs": [],
   "source": [
    "for year in years:\n",
    "    df, url = fetch_area_data(year,'a',county_code)\n",
    "    county = build_tree(df, '10', 71)\n",
    "    objective_function = get_objective(county, 'emp', str(county['emp']))\n",
    "    constraints = get_constraints(county, 'emp', [])\n",
    "    variables = get_optimization_variables(constraints, 'emp')\n",
    "    for variable in list(np.unique(variables)):\n",
    "        exec(f\"{variable} = cp.Variable()\")\n",
    "    exec(f\"objective = cp.Minimize(cp.abs({objective_function}))\")\n",
    "    numerical_constraints = []\n",
    "    for i,constraint in enumerate(constraints):\n",
    "        if i > 0:\n",
    "            numerical_constraints.append(eval(f\"{constraint.replace('=','==')}\"))\n",
    "    for variable in list(np.unique(variables)):\n",
    "        numerical_constraints.append(eval(f\"{variable}>= 0\"))\n",
    "    problem = cp.Problem(objective, numerical_constraints)\n",
    "    problem.solve(solver=cp.ECOS)\n",
    "    for variable in variables:\n",
    "        ind = variable[variable.find('_')+1:-1]\n",
    "        branch = fetch_branch(county, 'ind', ind)\n",
    "        if branch['emp'] == 0:\n",
    "            write_into(\n",
    "                county, 'ind', branch['ind'],\n",
    "                {'emp_lp': branch['est'] * eval(f\"float({variable}.value)\")}\n",
    "            )\n",
    "    employment_series = save_data_to_time_series(\n",
    "        employment_series, county, industry_codes, 'emp', year\n",
    "    )"
   ]
  },
  {
   "cell_type": "code",
   "execution_count": 38,
   "metadata": {},
   "outputs": [],
   "source": [
    "employment_series.to_csv('Fulton_employment.csv')"
   ]
  },
  {
   "cell_type": "code",
   "execution_count": 34,
   "metadata": {},
   "outputs": [],
   "source": [
    "lightcast = pd.read_csv('lightcast.csv', index_col=[0])"
   ]
  },
  {
   "cell_type": "code",
   "execution_count": 35,
   "metadata": {},
   "outputs": [],
   "source": [
    "inds = list(employment_series.columns[employment_series.columns.str.len()==6])"
   ]
  },
  {
   "cell_type": "code",
   "execution_count": 36,
   "metadata": {},
   "outputs": [],
   "source": [
    "percentage_differences = pd.DataFrame([], columns=list(range(2014,2021+1)))"
   ]
  },
  {
   "cell_type": "code",
   "execution_count": 37,
   "metadata": {},
   "outputs": [
    {
     "name": "stdout",
     "output_type": "stream",
     "text": [
      "29.631734852750416\n",
      "30.458080603240745\n",
      "31.337487455875507\n",
      "32.3921202018017\n",
      "33.207014138640645\n",
      "32.62183385893076\n",
      "31.854557667833767\n",
      "31.865086869055297\n"
     ]
    }
   ],
   "source": [
    "employment = employment_series[employment_series.columns[employment_series.columns.str.len()==6]]\n",
    "\n",
    "absolute_difference = []\n",
    "comparison = {}\n",
    "for year in years:\n",
    "    for ind in employment.columns:\n",
    "        if employment.at[year, ind] > 0:\n",
    "            if int(ind) in lightcast.index:\n",
    "                if lightcast.at[int(ind), str(year)] == '<10':\n",
    "                    lightcast_value = 5\n",
    "                else:\n",
    "                    lightcast_value = int(lightcast.at[int(ind), str(year)])\n",
    "                absolute_difference.append(\n",
    "                    np.abs(\n",
    "                        employment.at[year, ind] - lightcast_value\n",
    "                    )\n",
    "                )\n",
    "                if year == 2014:\n",
    "                    comparison[ind] = {'edai': employment.at[year, ind], 'lightcast': lightcast_value}\n",
    "    print(np.mean(absolute_difference))"
   ]
  }
 ],
 "metadata": {
  "kernelspec": {
   "display_name": "env",
   "language": "python",
   "name": "python3"
  },
  "language_info": {
   "codemirror_mode": {
    "name": "ipython",
    "version": 3
   },
   "file_extension": ".py",
   "mimetype": "text/x-python",
   "name": "python",
   "nbconvert_exporter": "python",
   "pygments_lexer": "ipython3",
   "version": "3.10.4 (main, May 17 2022, 17:58:44) [Clang 13.1.6 (clang-1316.0.21.2.5)]"
  },
  "orig_nbformat": 4,
  "vscode": {
   "interpreter": {
    "hash": "14e238f0422ace89beef5d390dad5b6a63140dd1587467da945499bbb63733f6"
   }
  }
 },
 "nbformat": 4,
 "nbformat_minor": 2
}
