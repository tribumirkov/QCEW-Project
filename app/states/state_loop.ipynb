{
 "cells": [
  {
   "cell_type": "code",
   "execution_count": null,
   "metadata": {},
   "outputs": [
    {
     "ename": "",
     "evalue": "",
     "output_type": "error",
     "traceback": [
      "\u001b[1;31mJupyter cannot be started. Error attempting to locate Jupyter: Select an Interpreter to start Jupyter\n",
      "\u001b[1;31mRun the following command to install 'jupyter and notebook' into the Python environment. \n",
      "\u001b[1;31mCommand: 'python -m pip install jupyter notebook -U\n",
      "\u001b[1;31mor\n",
      "\u001b[1;31mconda install jupyter notebook -U'\n",
      "\u001b[1;31mClick <a href='https://aka.ms/installJupyterForVSCode'>here</a> for more info."
     ]
    }
   ],
   "source": [
    "import json\n",
    "import re\n",
    "\n",
    "import cvxpy as cp\n",
    "import numpy as np\n",
    "import pandas as pd\n",
    "from pydantic import BaseSettings\n",
    "import plotly.graph_objects as go\n"
   ]
  },
  {
   "cell_type": "code",
   "execution_count": null,
   "metadata": {},
   "outputs": [
    {
     "ename": "",
     "evalue": "",
     "output_type": "error",
     "traceback": [
      "\u001b[1;31mJupyter cannot be started. Error attempting to locate Jupyter: Select an Interpreter to start Jupyter\n",
      "\u001b[1;31mRun the following command to install 'jupyter and notebook' into the Python environment. \n",
      "\u001b[1;31mCommand: 'python -m pip install jupyter notebook -U\n",
      "\u001b[1;31mor\n",
      "\u001b[1;31mconda install jupyter notebook -U'\n",
      "\u001b[1;31mClick <a href='https://aka.ms/installJupyterForVSCode'>here</a> for more info."
     ]
    }
   ],
   "source": [
    "class Settings(BaseSettings):\n",
    "    qcew_api_url = 'http://data.bls.gov/cew/data/api'\n",
    "\n",
    "    ownership_code = 5\n",
    "\n",
    "    root_aggregation = 71\n",
    "    highest_aggregation = 74\n",
    "    lowest_aggregation = 78\n",
    "    max_digits_of_naics = 6\n",
    "\n",
    "    state_root_aggregation = 51\n",
    "    state_highest_aggregation = 54\n",
    "    state_lowest_aggregation = 58\n",
    "\n",
    "    string_connecting_codes = '_'\n",
    "\n",
    "    establishments = 'annual_avg_estabs'\n",
    "    employment = 'annual_avg_emplvl'\n",
    "    wages = 'total_annual_wages'\n",
    "\n",
    "    employment_abbreviation = 'emp'\n",
    "    wages_abbreviation = 'wages'\n",
    "\n",
    "settings = Settings()\n",
    "\n",
    "\n",
    "class NpEncoder(json.JSONEncoder):\n",
    "    def default(self, obj):\n",
    "        if isinstance(obj, np.integer):\n",
    "            return int(obj)\n",
    "        if isinstance(obj, np.floating):\n",
    "            return float(obj)\n",
    "        if isinstance(obj, np.ndarray):\n",
    "            return obj.tolist()\n",
    "        return super(NpEncoder, self).default(obj)\n"
   ]
  },
  {
   "cell_type": "code",
   "execution_count": null,
   "metadata": {},
   "outputs": [
    {
     "ename": "",
     "evalue": "",
     "output_type": "error",
     "traceback": [
      "\u001b[1;31mJupyter cannot be started. Error attempting to locate Jupyter: Select an Interpreter to start Jupyter\n",
      "\u001b[1;31mRun the following command to install 'jupyter and notebook' into the Python environment. \n",
      "\u001b[1;31mCommand: 'python -m pip install jupyter notebook -U\n",
      "\u001b[1;31mor\n",
      "\u001b[1;31mconda install jupyter notebook -U'\n",
      "\u001b[1;31mClick <a href='https://aka.ms/installJupyterForVSCode'>here</a> for more info."
     ]
    }
   ],
   "source": [
    "def fetch_area_data(year, quarter, area):\n",
    "    \"\"\"\n",
    "    Return a pandas table from BLS given year, quarter (a for year), and area code\n",
    "    \"\"\"\n",
    "    url_path = f'{settings.qcew_api_url}/{year}/{quarter}/area/{area}.csv'\n",
    "    df = pd.read_csv(url_path)\n",
    "    df['industry_code'] = df['industry_code'].str.replace(\n",
    "        '-',\n",
    "        settings.string_connecting_codes\n",
    "    )\n",
    "    return df, url_path\n",
    "\n",
    "\n",
    "def fetch_industry_data(year, quarter, industry):\n",
    "    \"\"\"\n",
    "    Return a pandas table from BLS given year, quarter (a for year), and NAICS code\n",
    "    \"\"\"\n",
    "    url_path = f'{settings.qcew_api_url}/{year}/{quarter}/industry/{industry}.csv'\n",
    "    return pd.read_csv(url_path), url_path"
   ]
  },
  {
   "cell_type": "code",
   "execution_count": null,
   "metadata": {},
   "outputs": [
    {
     "ename": "",
     "evalue": "",
     "output_type": "error",
     "traceback": [
      "\u001b[1;31mJupyter cannot be started. Error attempting to locate Jupyter: Select an Interpreter to start Jupyter\n",
      "\u001b[1;31mRun the following command to install 'jupyter and notebook' into the Python environment. \n",
      "\u001b[1;31mCommand: 'python -m pip install jupyter notebook -U\n",
      "\u001b[1;31mor\n",
      "\u001b[1;31mconda install jupyter notebook -U'\n",
      "\u001b[1;31mClick <a href='https://aka.ms/installJupyterForVSCode'>here</a> for more info."
     ]
    }
   ],
   "source": [
    "def fetch_branch(tree, key, value):\n",
    "    \"\"\"\n",
    "    Find key - value pair in the tree\n",
    "    \"\"\"\n",
    "    if tree.get(key) == value:\n",
    "        return tree\n",
    "    for child in tree['children']:\n",
    "        match = fetch_branch(child, key, value)\n",
    "        if match is not None:\n",
    "            return match\n",
    "\n",
    "\n",
    "def write_into(tree, key, value, data):\n",
    "    \"\"\"\n",
    "    Return the tree with data written in the given node\n",
    "    \"\"\"\n",
    "    if tree.get(key) == value:\n",
    "        for data_key in data.keys():\n",
    "            tree[data_key] = data[data_key]\n",
    "    else:\n",
    "        for child in tree['children']:\n",
    "            write_into(child, key, value, data)\n",
    "    return tree\n",
    "\n",
    "\n",
    "def fetch_values_given_key(tree, key, values):\n",
    "    \"\"\"\n",
    "    Return all the values in the tree given a key e.g. 'ind'\n",
    "    \"\"\"\n",
    "    if tree.get(key) is not None:\n",
    "        values.append(tree[key])\n",
    "    if len(tree['children']) > 0:\n",
    "        for child in tree['children']:\n",
    "            values = fetch_values_given_key(child, key, values)\n",
    "    return values\n",
    "\n",
    "\n",
    "def save_data_to_time_series(time_series, county, key, year):\n",
    "    \"\"\"\n",
    "    Returns time series that contains all the industries across time\n",
    "    \"\"\"\n",
    "    for ind in fetch_values_given_key(county, 'ind', []):\n",
    "        industry = fetch_branch(county, 'ind', ind)\n",
    "        if industry.get(f'{key}_lp') is not None:\n",
    "            time_series.at[year, ind] = industry[f'{key}_lp']\n",
    "        else:\n",
    "            time_series.at[year, ind] = industry[f'{key}']\n",
    "    return time_series\n"
   ]
  },
  {
   "cell_type": "code",
   "execution_count": null,
   "metadata": {},
   "outputs": [
    {
     "ename": "",
     "evalue": "",
     "output_type": "error",
     "traceback": [
      "\u001b[1;31mJupyter cannot be started. Error attempting to locate Jupyter: Select an Interpreter to start Jupyter\n",
      "\u001b[1;31mRun the following command to install 'jupyter and notebook' into the Python environment. \n",
      "\u001b[1;31mCommand: 'python -m pip install jupyter notebook -U\n",
      "\u001b[1;31mor\n",
      "\u001b[1;31mconda install jupyter notebook -U'\n",
      "\u001b[1;31mClick <a href='https://aka.ms/installJupyterForVSCode'>here</a> for more info."
     ]
    }
   ],
   "source": [
    "def adjust_aggregation_code(aggregation):\n",
    "    \"\"\"\n",
    "    Return aggregation code that skips 72, and 73\n",
    "    \"\"\"\n",
    "    aggregation_levels = list(\n",
    "        range(\n",
    "            settings.highest_aggregation, settings.lowest_aggregation + 1\n",
    "        )\n",
    "    )\n",
    "    aggregation_levels.append(settings.root_aggregation)\n",
    "    if aggregation in aggregation_levels:\n",
    "        return aggregation\n",
    "    if settings.root_aggregation < aggregation < settings.highest_aggregation:\n",
    "        return settings.highest_aggregation\n",
    "    raise Exception('Aggregation level code unknown.')\n",
    "\n",
    "\n",
    "def get_children_codes(df, code, aggregation):\n",
    "    \"\"\"\n",
    "    Return a list of children codes\n",
    "    \"\"\"\n",
    "    if settings.string_connecting_codes in code:\n",
    "        search_it = tuple([str(number) for number in range(int(code[0:2]), int(code[-2:]) + 1)])\n",
    "    else:\n",
    "        search_it = code\n",
    "    if search_it == '10':\n",
    "        where = (df['agglvl_code']==settings.highest_aggregation) & \\\n",
    "                (df['own_code']==settings.ownership_code)\n",
    "    else:\n",
    "        where = (df['industry_code'].str.startswith(search_it)) & \\\n",
    "                (df['own_code']==settings.ownership_code) & \\\n",
    "                (df['agglvl_code']==aggregation+1)\n",
    "    return sorted(np.unique(df['industry_code'][where].values))\n",
    "\n",
    "\n",
    "def get_variables(df, code, aggregation):\n",
    "    \"\"\"\n",
    "    Return variables of interest given industry code\n",
    "    \"\"\"\n",
    "    ownership_code = settings.ownership_code\n",
    "    where = (df['industry_code']==code) & \\\n",
    "            (df['agglvl_code']==aggregation) & \\\n",
    "            (df['own_code']==ownership_code)\n",
    "    est = df[where][f'{settings.establishments}'].values[0]\n",
    "    emp = df[where][f'{settings.employment}'].values[0]\n",
    "    wages = df[where][f'{settings.wages}'].values[0]\n",
    "    return est, emp, wages\n",
    "\n",
    "\n",
    "def build_tree(df, code, aggregation):\n",
    "    \"\"\"\n",
    "    Return the complete tree with nodes and leaves\n",
    "    \"\"\"\n",
    "    if code is not None:\n",
    "        aggregation = adjust_aggregation_code(aggregation)\n",
    "        est, emp, wages = get_variables(df, code, aggregation)\n",
    "        children_codes = get_children_codes(df, code, aggregation)\n",
    "        children = []\n",
    "        if aggregation <= settings.lowest_aggregation:\n",
    "            for child_code in children_codes:\n",
    "                children.append(build_tree(df, child_code, aggregation+1))\n",
    "        return {'ind': code, 'est': est, 'emp': emp, 'wages': wages,'children':children}"
   ]
  },
  {
   "cell_type": "code",
   "execution_count": null,
   "metadata": {},
   "outputs": [
    {
     "ename": "",
     "evalue": "",
     "output_type": "error",
     "traceback": [
      "\u001b[1;31mJupyter cannot be started. Error attempting to locate Jupyter: Select an Interpreter to start Jupyter\n",
      "\u001b[1;31mRun the following command to install 'jupyter and notebook' into the Python environment. \n",
      "\u001b[1;31mCommand: 'python -m pip install jupyter notebook -U\n",
      "\u001b[1;31mor\n",
      "\u001b[1;31mconda install jupyter notebook -U'\n",
      "\u001b[1;31mClick <a href='https://aka.ms/installJupyterForVSCode'>here</a> for more info."
     ]
    }
   ],
   "source": [
    "def get_constraints(tree_code, tree, key, constraints):\n",
    "    \"\"\"\n",
    "    Return all the constraints in a tree\n",
    "    \"\"\"\n",
    "    if len(tree['children'])>0:\n",
    "        if tree[key] == 0:\n",
    "            constraint = f\"{key}_{tree_code}_{tree['ind']} = \"\n",
    "        else:\n",
    "            constraint = f\"{tree[key]} = \"\n",
    "        for i,child in enumerate(tree['children']):\n",
    "            if i > 0:\n",
    "                constraint += ' + '\n",
    "            if child[key] == 0:\n",
    "                constraint+= f\"{key}_{tree_code}_{child['ind']} \"\n",
    "            else:\n",
    "                constraint+= f\"{child[key]}\"\n",
    "        if key in constraint:\n",
    "            check = constraint.split(' = ')\n",
    "            if check[0] != check[1]:\n",
    "                constraints.append(constraint)\n",
    "    for child in tree['children']:\n",
    "        constraints = get_constraints(tree_code, child, key, constraints)\n",
    "    return constraints\n",
    "\n",
    "\n",
    "def get_state_county_constraints(state, year, key):\n",
    "    \"\"\"\n",
    "    Return all the constraints in a tree\n",
    "    \"\"\"\n",
    "    state_county_constraints = []\n",
    "    state_code = list(state[year].keys())[0]\n",
    "    county_codes = list(state[year].keys())[1:]\n",
    "    state_inds = fetch_values_given_key(state[year][state_code], 'ind', [])\n",
    "    for state_ind in state_inds:\n",
    "        state_node = fetch_branch(state[year][state_code], 'ind', state_ind)\n",
    "        if state_node[key] == 0:\n",
    "            state_county_constraint = f\"{key}_{state_code}_{state_ind} = \"\n",
    "        else:\n",
    "            state_county_constraint = f\"{state_node[key]} = \"\n",
    "        for county_code in county_codes:\n",
    "            county_node = fetch_branch(state[year][county_code], 'ind', state_ind)\n",
    "            if county_node is not None:\n",
    "                if county_node[key] == 0:\n",
    "                    state_county_constraint += f\" + {key}_{county_code}_{state_ind}\"\n",
    "                else:\n",
    "                    state_county_constraint += f\" + {county_node[key]}\"\n",
    "        if f'{key}_' in state_county_constraint:\n",
    "            state_county_constraints.append(\n",
    "                state_county_constraint.replace('=  + ','= ')\n",
    "            )\n",
    "    return state_county_constraints\n",
    "\n",
    "\n",
    "def get_optimization_variables(constraints, key):\n",
    "    \"\"\"\n",
    "    Return a list of variables from constraints\n",
    "    \"\"\"\n",
    "    variables = []\n",
    "    if key == settings.employment_abbreviation:\n",
    "        regex = r\"emp_[^ ]* \"\n",
    "    elif key == settings.wages_abbreviation:\n",
    "        regex = r\"wages_[^ ]* \"\n",
    "    else:\n",
    "        raise Exception(\n",
    "            f'''\n",
    "            Unknown variable abbreviation:\n",
    "            it can be either {settings.employment_abbreviation} or {settings.wages_abbreviation}\n",
    "            '''\n",
    "        )\n",
    "    for constraint in constraints:\n",
    "        variables+=re.findall(regex, constraint)\n",
    "    return list(np.unique(variables))"
   ]
  },
  {
   "cell_type": "code",
   "execution_count": null,
   "metadata": {},
   "outputs": [
    {
     "ename": "",
     "evalue": "",
     "output_type": "error",
     "traceback": [
      "\u001b[1;31mJupyter cannot be started. Error attempting to locate Jupyter: Select an Interpreter to start Jupyter\n",
      "\u001b[1;31mRun the following command to install 'jupyter and notebook' into the Python environment. \n",
      "\u001b[1;31mCommand: 'python -m pip install jupyter notebook -U\n",
      "\u001b[1;31mor\n",
      "\u001b[1;31mconda install jupyter notebook -U'\n",
      "\u001b[1;31mClick <a href='https://aka.ms/installJupyterForVSCode'>here</a> for more info."
     ]
    }
   ],
   "source": [
    "def state_aggregation(aggregation):\n",
    "    \"\"\"\n",
    "    Return aggregation code that skips 52, and 53\n",
    "    \"\"\"\n",
    "    aggregation_levels = list(\n",
    "        range(\n",
    "            settings.state_highest_aggregation, settings.state_lowest_aggregation + 1\n",
    "        )\n",
    "    )\n",
    "    aggregation_levels.append(settings.state_root_aggregation)\n",
    "    if aggregation in aggregation_levels:\n",
    "        return aggregation\n",
    "    if settings.state_root_aggregation < aggregation < settings.state_highest_aggregation:\n",
    "        return settings.state_highest_aggregation\n",
    "    raise Exception('Aggregation level code unknown.')\n",
    "\n",
    "\n",
    "def state_children_codes(df, code, aggregation):\n",
    "    \"\"\"\n",
    "    Return a list of children codes\n",
    "    \"\"\"\n",
    "    if settings.string_connecting_codes in code:\n",
    "        search_it = tuple(str(number) for number in range(int(code[0:2]), int(code[-2:]) + 1))\n",
    "    else:\n",
    "        search_it = code\n",
    "    if search_it == '10':\n",
    "        where = (df['agglvl_code']==settings.state_highest_aggregation) & \\\n",
    "                (df['own_code']==settings.ownership_code)\n",
    "    else:\n",
    "        where = (df['industry_code'].str.startswith(search_it)) & \\\n",
    "                (df['own_code']==settings.ownership_code) & \\\n",
    "                (df['agglvl_code']==aggregation+1)\n",
    "    return sorted(np.unique(df['industry_code'][where].values))\n",
    "\n",
    "\n",
    "def build_state_tree(df, code, aggregation):\n",
    "    \"\"\"\n",
    "    Return the complete tree with nodes and leaves\n",
    "    \"\"\"\n",
    "    if code is not None:\n",
    "        aggregation = state_aggregation(aggregation)\n",
    "        est, emp, wages = get_variables(df, code, aggregation)\n",
    "        children_codes = state_children_codes(df, code, aggregation)\n",
    "        children = []\n",
    "        if aggregation <= settings.state_lowest_aggregation:\n",
    "            for child_code in children_codes:\n",
    "                children.append(build_state_tree(df, child_code, aggregation+1))\n",
    "        return {'ind': code, 'est': est, 'emp': emp, 'wages': wages,'children':children}\n",
    "    return None"
   ]
  },
  {
   "cell_type": "code",
   "execution_count": null,
   "metadata": {},
   "outputs": [
    {
     "ename": "",
     "evalue": "",
     "output_type": "error",
     "traceback": [
      "\u001b[1;31mJupyter cannot be started. Error attempting to locate Jupyter: Select an Interpreter to start Jupyter\n",
      "\u001b[1;31mRun the following command to install 'jupyter and notebook' into the Python environment. \n",
      "\u001b[1;31mCommand: 'python -m pip install jupyter notebook -U\n",
      "\u001b[1;31mor\n",
      "\u001b[1;31mconda install jupyter notebook -U'\n",
      "\u001b[1;31mClick <a href='https://aka.ms/installJupyterForVSCode'>here</a> for more info."
     ]
    }
   ],
   "source": [
    "def sum_county_employment(state, year, ind):\n",
    "    \"\"\"\n",
    "    Return the total number of employment accross counties\n",
    "    \"\"\"   \n",
    "    counties_emp = []\n",
    "    for code in list(state[year].keys())[1:]:\n",
    "        node = fetch_branch(state[year][code], 'ind', ind)\n",
    "        if node is not None:\n",
    "            if node['emp'] == 0: \n",
    "                counties_emp.append(node['emp_lp'])\n",
    "            else:\n",
    "                counties_emp.append(node['emp'])\n",
    "    return np.sum(counties_emp)"
   ]
  },
  {
   "cell_type": "code",
   "execution_count": null,
   "metadata": {},
   "outputs": [
    {
     "ename": "",
     "evalue": "",
     "output_type": "error",
     "traceback": [
      "\u001b[1;31mJupyter cannot be started. Error attempting to locate Jupyter: Select an Interpreter to start Jupyter\n",
      "\u001b[1;31mRun the following command to install 'jupyter and notebook' into the Python environment. \n",
      "\u001b[1;31mCommand: 'python -m pip install jupyter notebook -U\n",
      "\u001b[1;31mor\n",
      "\u001b[1;31mconda install jupyter notebook -U'\n",
      "\u001b[1;31mClick <a href='https://aka.ms/installJupyterForVSCode'>here</a> for more info."
     ]
    }
   ],
   "source": [
    "# state_code = '13'\n",
    "# years = list(range(2014,2021+1))\n",
    "# period = 'a'\n",
    "# df, url = fetch_industry_data(2021, period, '102')\n",
    "# county_codes = list(np.unique(df[df['area_fips'].str.startswith(state_code)]['area_fips']))"
   ]
  },
  {
   "cell_type": "code",
   "execution_count": null,
   "metadata": {},
   "outputs": [
    {
     "ename": "",
     "evalue": "",
     "output_type": "error",
     "traceback": [
      "\u001b[1;31mJupyter cannot be started. Error attempting to locate Jupyter: Select an Interpreter to start Jupyter\n",
      "\u001b[1;31mRun the following command to install 'jupyter and notebook' into the Python environment. \n",
      "\u001b[1;31mCommand: 'python -m pip install jupyter notebook -U\n",
      "\u001b[1;31mor\n",
      "\u001b[1;31mconda install jupyter notebook -U'\n",
      "\u001b[1;31mClick <a href='https://aka.ms/installJupyterForVSCode'>here</a> for more info."
     ]
    }
   ],
   "source": [
    "# state = {}\n",
    "# for year in years:\n",
    "#     counties = {}\n",
    "#     for i_county,county_code in enumerate(county_codes):\n",
    "#         df, _ = fetch_area_data(year, period, county_code)\n",
    "#         if i_county == 0:\n",
    "#             county = build_state_tree(df, '10', 51)\n",
    "#         else:\n",
    "#             county = build_tree(df, '10', 71)\n",
    "#         counties[county_code] = county\n",
    "#     state[year] = counties"
   ]
  },
  {
   "cell_type": "code",
   "execution_count": null,
   "metadata": {},
   "outputs": [],
   "source": [
    "# with open('state.json', 'w') as fp:\n",
    "#     json.dump(state, fp, cls=NpEncoder)"
   ]
  },
  {
   "cell_type": "code",
   "execution_count": null,
   "metadata": {},
   "outputs": [],
   "source": [
    "with open('state.json', 'r') as fp:\n",
    "    state = json.load(fp)"
   ]
  },
  {
   "cell_type": "code",
   "execution_count": null,
   "metadata": {},
   "outputs": [],
   "source": [
    "year = '2014'\n",
    "area_constraints = [] \n",
    "for code in list(state[year].keys()):\n",
    "    area_constraints = get_constraints(code, state[year][code], 'emp', area_constraints)"
   ]
  },
  {
   "cell_type": "code",
   "execution_count": null,
   "metadata": {},
   "outputs": [],
   "source": [
    "state_level_constraints = get_state_county_constraints(state, year, 'emp')"
   ]
  },
  {
   "cell_type": "code",
   "execution_count": null,
   "metadata": {},
   "outputs": [],
   "source": [
    "constraints = area_constraints + state_level_constraints"
   ]
  },
  {
   "cell_type": "code",
   "execution_count": null,
   "metadata": {},
   "outputs": [],
   "source": [
    "variables = get_optimization_variables(area_constraints + state_level_constraints, 'emp')"
   ]
  },
  {
   "cell_type": "code",
   "execution_count": null,
   "metadata": {},
   "outputs": [],
   "source": [
    "for variable in list(np.unique(variables)):\n",
    "    exec(f\"{variable} = cp.Variable()\")"
   ]
  },
  {
   "cell_type": "code",
   "execution_count": null,
   "metadata": {},
   "outputs": [],
   "source": [
    "import sys\n",
    "sys.setrecursionlimit(1000000000)\n",
    "exec(f\"objective = cp.Minimize(cp.sum({' + '.join(variables)}))\")"
   ]
  },
  {
   "cell_type": "code",
   "execution_count": null,
   "metadata": {},
   "outputs": [],
   "source": [
    "numerical_constraints = []\n",
    "for constraint in constraints:\n",
    "    numerical_constraints.append(eval(f\"{constraint.replace('=','==')}\"))\n",
    "for variable in variables:\n",
    "    numerical_constraints.append(eval(f\"{variable} = 0\"))"
   ]
  },
  {
   "cell_type": "code",
   "execution_count": null,
   "metadata": {},
   "outputs": [],
   "source": [
    "problem = cp.Problem(objective, numerical_constraints)\n",
    "problem.solve(solver=cp.GLOP, verbose=True, max_iters = 10000000)"
   ]
  },
  {
   "cell_type": "code",
   "execution_count": null,
   "metadata": {},
   "outputs": [],
   "source": [
    "def extract_codes(variable):\n",
    "    \"\"\"\n",
    "    Return county code and industry code from a variable's name\n",
    "    \"\"\"\n",
    "    positions = [i for i, letter in enumerate(variable) if letter == '_']\n",
    "    county_code = variable[positions[0]+1:positions[1]]\n",
    "    industry_code = variable[positions[1]+1:].strip()\n",
    "    return county_code, industry_code\n",
    "\n",
    "key = 'emp'\n",
    "for variable in variables:\n",
    "    county_code, ind = extract_codes(variable)\n",
    "    county = state[year][county_code]\n",
    "    branch = fetch_branch(county, 'ind', ind)\n",
    "    county = write_into(\n",
    "        county, \n",
    "        'ind',\n",
    "        branch['ind'],\n",
    "        {f'{key}_lp': eval(f\"float({variable}.value)\")}\n",
    "    )\n",
    "    state[year][county_code] = county"
   ]
  },
  {
   "cell_type": "code",
   "execution_count": null,
   "metadata": {},
   "outputs": [],
   "source": [
    "years = list(range(2014,2021+1))\n",
    "for county_code in list(state['2014'].keys()):\n",
    "    industry_codes = []\n",
    "    for year in years:\n",
    "        industry_codes += fetch_values_given_key(state[str(year)][county_code], 'ind', [])\n",
    "    employment = pd.DataFrame([], columns=np.unique(sorted(industry_codes)))\n",
    "    for year in years:\n",
    "        employment = save_data_to_time_series(\n",
    "            employment, state[str(year)][county_code], 'emp', year\n",
    "        )\n",
    "        employment[employment<1e-1] = 0\n",
    "    (employment.transpose()).to_csv(f'Virginia_{county_code}_employment.csv')"
   ]
  },
  {
   "cell_type": "code",
   "execution_count": null,
   "metadata": {},
   "outputs": [],
   "source": [
    "import warnings\n",
    "warnings.simplefilter(action='ignore', category=Warning)\n",
    "\n",
    "industry_codes = []\n",
    "county_code = '13121'\n",
    "for year in years:\n",
    "    industry_codes += fetch_values_given_key(state[str(year)][county_code], 'ind', [])\n",
    "employment = pd.DataFrame([], columns=np.unique(sorted(industry_codes)))\n",
    "\n",
    "lightcast = pd.read_csv('lightcast.csv', index_col=[0])\n",
    "inds = list(employment.columns[employment.columns.str.len()==6])\n",
    "employment = employment[employment.columns[employment.columns.str.len()==6]]\n",
    "\n",
    "for year in years:\n",
    "    employment = save_data_to_time_series(\n",
    "            employment, state[str(year)][county_code], 'emp', year\n",
    "    )\n",
    "    absolute_difference = []\n",
    "    indices = []\n",
    "    for ind in employment.columns:\n",
    "        if employment.at[year, ind] > 0:\n",
    "            if int(ind) in lightcast.index:\n",
    "                indices.append(ind)\n",
    "                if lightcast.at[int(ind), str(year)] == '<10':\n",
    "                    lightcast_value = 5\n",
    "                else:\n",
    "                    lightcast_value = int(lightcast.at[int(ind), str(year)])\n",
    "                absolute_difference.append(\n",
    "                    np.abs(\n",
    "                        employment.at[year, ind] - lightcast_value\n",
    "                    )\n",
    "                )\n",
    "    print(f'MAD to Lightcast: {np.mean(absolute_difference)}')"
   ]
  },
  {
   "cell_type": "code",
   "execution_count": null,
   "metadata": {},
   "outputs": [],
   "source": [
    "# Milestone a)\n",
    "years = list(range(2014,2021+1))\n",
    "for year in years:\n",
    "    differences = []\n",
    "    for code in list(state[str(year)].keys()):\n",
    "        county = state[str(year)][code]\n",
    "        inds = fetch_values_given_key(county, 'ind', [])\n",
    "        for ind in inds:\n",
    "            node = fetch_branch(county, 'ind', ind)\n",
    "            if len(node['children']) > 0:\n",
    "                the_sum = []\n",
    "                for child in node['children']:\n",
    "                    if child['emp'] == 0:\n",
    "                        the_sum.append(child['emp_lp'])\n",
    "                    else:\n",
    "                        the_sum.append(child['emp'])\n",
    "                if node['emp'] == 0:\n",
    "                    differences.append(np.abs(node['emp_lp'] - np.sum(the_sum)))\n",
    "                else:\n",
    "                    differences.append(np.abs(node['emp'] - np.sum(the_sum)))\n",
    "    print('*** discrepancies area totals minus children totals ***')\n",
    "    print(f'mean {np.mean(differences)}')\n",
    "    print(f'median {np.median(differences)}')\n",
    "    print(f'min {np.min(differences)}')\n",
    "    print(f'max {np.max(differences)}')"
   ]
  },
  {
   "cell_type": "code",
   "execution_count": null,
   "metadata": {},
   "outputs": [],
   "source": [
    "# Milestone b) and c)\n",
    "state_code = list(state[str(year)].keys())[0]\n",
    "industry_codes = []\n",
    "for year in years:\n",
    "    industry_codes += fetch_values_given_key(state[str(year)][state_code], 'ind', [])\n",
    "differences = pd.DataFrame(\n",
    "    np.empty((len(np.unique(sorted(industry_codes))),len(years))),\n",
    "    columns=years\n",
    ")\n",
    "differences.index = list(np.unique(sorted(industry_codes)))\n",
    "for ind in differences.index.values.tolist():\n",
    "    for year in years:\n",
    "        counties_sum = float(sum_county_employment(state, str(year), ind))\n",
    "        node = fetch_branch(state[str(year)][state_code], 'ind', ind)\n",
    "        if node is not None:\n",
    "            if node['emp'] > 0:\n",
    "                state_level_employment = float(node['emp'])\n",
    "            else:\n",
    "                state_level_employment = float(node['emp_lp'])\n",
    "            if state_level_employment == 0:\n",
    "                differences.at[ind, year] = 0\n",
    "            else:\n",
    "                differences.at[ind, year] = \\\n",
    "                    np.abs((state_level_employment - counties_sum))\n",
    "differences.to_csv(f'differences_state.csv')"
   ]
  },
  {
   "cell_type": "code",
   "execution_count": null,
   "metadata": {},
   "outputs": [],
   "source": [
    "print('*** discrepancies state totals minus estimated sums ***')\n",
    "print(f'mean {differences.mean().values[0]}')\n",
    "print(f'median {differences.median().values[0]}')\n",
    "print(f'min {differences.min().values[0]}')\n",
    "print(f'max {differences.max().values[0]}')"
   ]
  },
  {
   "cell_type": "code",
   "execution_count": null,
   "metadata": {},
   "outputs": [],
   "source": [
    "# with open('state.json', 'w') as fp:\n",
    "#     json.dump(state, fp, cls=NpEncoder)"
   ]
  }
 ],
 "metadata": {
  "kernelspec": {
   "display_name": "env",
   "language": "python",
   "name": "python3"
  },
  "language_info": {
   "codemirror_mode": {
    "name": "ipython",
    "version": 3
   },
   "file_extension": ".py",
   "mimetype": "text/x-python",
   "name": "python",
   "nbconvert_exporter": "python",
   "pygments_lexer": "ipython3",
   "version": "3.10.4"
  },
  "orig_nbformat": 4,
  "vscode": {
   "interpreter": {
    "hash": "14e238f0422ace89beef5d390dad5b6a63140dd1587467da945499bbb63733f6"
   }
  }
 },
 "nbformat": 4,
 "nbformat_minor": 2
}
