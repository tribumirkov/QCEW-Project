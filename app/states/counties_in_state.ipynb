{
 "cells": [
  {
   "cell_type": "code",
   "execution_count": null,
   "metadata": {},
   "outputs": [],
   "source": [
    "import cvxpy as cp\n",
    "import matplotlib.pyplot as plt\n",
    "import numexpr as ne\n",
    "import numpy as np\n",
    "import pandas as pd\n",
    "import plotly.graph_objects as go\n",
    "import re\n",
    "import squarify\n",
    "\n",
    "from functions import run_linear_programming, set_optimization_problem, save_data_to_time_series\n",
    "from helpers import fetch_area_data, fetch_industry_data, get_node_variables, get_optimization_variables\n",
    "from tree import build_county_tree, get_objective, get_constraints, build_state_tree, fetch_branch, \\\n",
    "    fetch_values_given_key, write_into\n",
    "from config import settings"
   ]
  },
  {
   "cell_type": "code",
   "execution_count": null,
   "metadata": {},
   "outputs": [],
   "source": [
    "cp.installed_solvers()"
   ]
  },
  {
   "cell_type": "code",
   "execution_count": null,
   "metadata": {},
   "outputs": [],
   "source": [
    "# Fetch state and county codes\n",
    "# Georgia\n",
    "state_code = '13'\n",
    "year = 2021\n",
    "period = 'a'\n",
    "df, url = fetch_industry_data(year, period, '102')\n",
    "codes = list(np.unique(df[df['area_fips'].str.startswith(state_code)]['area_fips']))"
   ]
  },
  {
   "cell_type": "code",
   "execution_count": null,
   "metadata": {},
   "outputs": [],
   "source": [
    "df, _ = fetch_area_data(year, period, codes[0])\n",
    "state = build_state_tree(df, '10', 51)\n",
    "counties = {}\n",
    "for code in codes[1:]:\n",
    "    df, _ = fetch_area_data(year, period, code)\n",
    "    county = build_county_tree(df, '10', 71)\n",
    "    counties[code] = county"
   ]
  },
  {
   "cell_type": "code",
   "execution_count": null,
   "metadata": {},
   "outputs": [],
   "source": [
    "def get_state_objective(tree_code, tree, key, objective):\n",
    "    \"\"\"\n",
    "    Return the objective function as key_10 - sum (key_6digits)\n",
    "    \"\"\"\n",
    "    if len(tree['ind'])==settings.max_digits_of_naics:\n",
    "        if tree[key] == 0:\n",
    "            objective += f\" - {key[0]}pe_{tree_code}_{tree['ind']}\"\n",
    "        else:\n",
    "            objective += f\" - {tree[key]}\"\n",
    "    for child in tree['children']:\n",
    "        objective = get_state_objective(tree_code, child, key, objective)\n",
    "    return objective"
   ]
  },
  {
   "cell_type": "code",
   "execution_count": null,
   "metadata": {},
   "outputs": [],
   "source": [
    "# Objective function\n",
    "objective = str(state['emp'])\n",
    "for code in codes[1:]:\n",
    "        objective = get_state_objective(code, counties[code], 'emp', objective)"
   ]
  },
  {
   "cell_type": "code",
   "execution_count": null,
   "metadata": {},
   "outputs": [],
   "source": [
    "def get_tree_constraints(tree_code, tree, key, constraints):\n",
    "    \"\"\"\n",
    "    Return all the constraints in a tree\n",
    "    \"\"\"\n",
    "    if len(tree['children'])>0:\n",
    "        if tree[key] == 0:\n",
    "            constraint = f\"{key[0]}pe_{tree_code}_{tree['ind']} = \"\n",
    "        else:\n",
    "            constraint = f\"{tree[key]} = \"\n",
    "        for i,child in enumerate(tree['children']):\n",
    "            if i > 0:\n",
    "                constraint += ' + '\n",
    "            if child[key] == 0:\n",
    "                constraint+= f\"{key[0]}pe_{tree_code}_{child['ind']} \"\n",
    "            else:\n",
    "                constraint+= f\"{child[key]}\"\n",
    "        if 'epe' in constraint:\n",
    "            check = constraint.split(' = ')\n",
    "            if check[0] != check[1]:\n",
    "                constraints.append(constraint)\n",
    "    for child in tree['children']:\n",
    "        constraints = get_tree_constraints(tree_code, child, key, constraints)\n",
    "    return constraints"
   ]
  },
  {
   "cell_type": "code",
   "execution_count": null,
   "metadata": {},
   "outputs": [],
   "source": [
    "# County constraints\n",
    "counties_constraints = [] \n",
    "for code in codes[1:]:\n",
    "    counties_constraints = get_tree_constraints(code, counties[code], 'emp', counties_constraints)"
   ]
  },
  {
   "cell_type": "code",
   "execution_count": null,
   "metadata": {},
   "outputs": [],
   "source": [
    "# State own constraints\n",
    "state_own_constraints = get_tree_constraints(codes[0], state, 'emp', [])"
   ]
  },
  {
   "cell_type": "code",
   "execution_count": null,
   "metadata": {},
   "outputs": [],
   "source": [
    "# State-county constraints\n",
    "def get_state_county_constraints(state, counties, key):\n",
    "    \"\"\"\n",
    "    Return all the constraints in a tree\n",
    "    \"\"\"\n",
    "    state_county_constraints = []\n",
    "    state_inds = fetch_values_given_key(state, 'ind', [])\n",
    "    for state_ind in state_inds[1:]:\n",
    "        state_node = fetch_branch(state, 'ind', state_ind)\n",
    "        if state_node[key] == 0:\n",
    "            state_county_constraint = f\"{key[0]}pe_{codes[0]}_{state_ind} = \"\n",
    "        else:\n",
    "            state_county_constraint = f\"{state_node[key]} = \"\n",
    "        for i,code in enumerate(counties.keys()):\n",
    "            county_node = fetch_branch(counties[code], 'ind', state_ind)\n",
    "            if county_node is not None:\n",
    "                if county_node[key] == 0:\n",
    "                    state_county_constraint += f\" + {key[0]}pe_{code}_{state_ind}\"\n",
    "                else:\n",
    "                    state_county_constraint += f\" + {county_node[key]}\"\n",
    "        if f'{key[0]}pe' in state_county_constraint:\n",
    "            state_county_constraints.append(\n",
    "                state_county_constraint.replace('=  + ','= ')\n",
    "            )\n",
    "    return state_county_constraints"
   ]
  },
  {
   "cell_type": "code",
   "execution_count": null,
   "metadata": {},
   "outputs": [],
   "source": [
    "state_county_constraints = get_state_county_constraints(state, counties, 'emp')"
   ]
  },
  {
   "cell_type": "code",
   "execution_count": null,
   "metadata": {},
   "outputs": [],
   "source": [
    "constraints = counties_constraints + state_own_constraints + state_county_constraints\n",
    "len(constraints)"
   ]
  },
  {
   "cell_type": "code",
   "execution_count": null,
   "metadata": {},
   "outputs": [],
   "source": [
    "variables = get_optimization_variables(constraints, 'emp')\n",
    "len(variables)"
   ]
  },
  {
   "cell_type": "code",
   "execution_count": null,
   "metadata": {},
   "outputs": [],
   "source": [
    "for variable in variables:\n",
    "    exec(f\"{variable} = cp.Variable()\")\n",
    "numerical_constraints = []\n",
    "for i,constraint in enumerate(constraints):\n",
    "    numerical_constraints.append(eval(f\"{constraint.replace('=','>=')}\"))\n",
    "for variable in variables:\n",
    "    numerical_constraints.append(eval(f\"{variable}>= 0\"))"
   ]
  },
  {
   "cell_type": "code",
   "execution_count": null,
   "metadata": {},
   "outputs": [],
   "source": [
    "import sys\n",
    "sys.setrecursionlimit(1000000000)\n",
    "exec(f\"numerical_objective = cp.Minimize(cp.abs({objective}))\")"
   ]
  },
  {
   "cell_type": "code",
   "execution_count": null,
   "metadata": {},
   "outputs": [],
   "source": [
    "problem = cp.Problem(numerical_objective, numerical_constraints)\n",
    "problem.solve(solver=cp.GLOP, verbose = True, max_iters = 1000000)"
   ]
  },
  {
   "cell_type": "code",
   "execution_count": null,
   "metadata": {},
   "outputs": [],
   "source": [
    "def extract_codes(variable):\n",
    "    \"\"\"\n",
    "    Return county code and industry code from a variable's name\n",
    "    \"\"\"\n",
    "    positions = [i for i, letter in enumerate(variable) if letter == '_']\n",
    "    county_code = variable[positions[0]+1:positions[1]]\n",
    "    industry_code = variable[positions[1]+1:].strip()\n",
    "    return county_code, industry_code"
   ]
  },
  {
   "cell_type": "code",
   "execution_count": null,
   "metadata": {},
   "outputs": [],
   "source": [
    "key = 'emp'\n",
    "for variable in variables:\n",
    "    county_code, ind = extract_codes(variable)\n",
    "    if county_code == '13121':\n",
    "        if county_code in counties.keys():\n",
    "            county = counties[county_code]\n",
    "            branch = fetch_branch(county, 'ind', ind)\n",
    "            write_into(\n",
    "                county, \n",
    "                'ind', \n",
    "                branch['ind'],\n",
    "                {f'{key}_lp': eval(f\"float({variable}.value)\")}\n",
    "            )"
   ]
  },
  {
   "cell_type": "code",
   "execution_count": null,
   "metadata": {},
   "outputs": [],
   "source": [
    "# Fetch all industry codes in a period\n",
    "county_code = '13121'\n",
    "industry_codes=fetch_values_given_key(county, 'ind', [])\n",
    "employment_series = pd.DataFrame([], columns=np.unique(industry_codes))"
   ]
  },
  {
   "cell_type": "code",
   "execution_count": null,
   "metadata": {},
   "outputs": [],
   "source": [
    "employment_series = save_data_to_time_series(\n",
    "        employment_series, county, industry_codes, 'emp', year\n",
    ")\n",
    "employment_series.to_csv('employment4.csv')"
   ]
  },
  {
   "cell_type": "code",
   "execution_count": null,
   "metadata": {},
   "outputs": [],
   "source": [
    "lightcast = pd.read_csv('lightcast.csv', index_col=[0])\n",
    "inds = list(employment_series.columns[employment_series.columns.str.len()==6])\n",
    "percentage_differences = pd.DataFrame([], columns=[year])"
   ]
  },
  {
   "cell_type": "code",
   "execution_count": null,
   "metadata": {},
   "outputs": [],
   "source": [
    "differences = []\n",
    "index = []\n",
    "for ind in inds:\n",
    "    if int(ind) in lightcast.index:\n",
    "        if lightcast.at[int(ind),str(year)] == '<10':\n",
    "            lightcast.at[int(ind),str(year)] = 5\n",
    "            lightcast_value = 5\n",
    "        else:\n",
    "            lightcast_value = int(lightcast.at[int(ind), str(year)])\n",
    "        edai_value = employment_series.at[year, ind]\n",
    "        if lightcast_value > 0:\n",
    "            differences.append((lightcast_value - edai_value))\n",
    "        else:\n",
    "            differences.append(np.nan)\n",
    "        index.append(ind)\n",
    "print(np.nanmean(np.abs(differences)))\n",
    "percentage_differences[year] = differences\n",
    "percentage_differences.index = index\n",
    "percentage_differences.to_csv('comparison 6 digits4.csv')\n"
   ]
  },
  {
   "cell_type": "code",
   "execution_count": null,
   "metadata": {},
   "outputs": [],
   "source": [
    "industry = fetch_branch(county, 'ind', '3119')\n",
    "print(industry['est'])\n",
    "print(industry['emp'])\n",
    "if industry.get('emp_ps') is not None:\n",
    "    print(f\"emp_ps {industry['emp_ps']}\")\n",
    "if industry.get('emp_lp') is not None:\n",
    "    print(f\"emp_lp {industry['emp_lp']}\")\n",
    "for child in industry['children']:\n",
    "    print(f\"*** ind {child['ind']} *** \")\n",
    "    print(child['est'])\n",
    "    print(child['emp'])\n",
    "    if child.get('emp_ps') is not None:\n",
    "        print(f\"emp_ps {child['emp_ps']}\")\n",
    "    if child.get('emp_lp') is not None:\n",
    "        print(f\"emp_lp {child['emp_lp']}\")"
   ]
  }
 ],
 "metadata": {
  "kernelspec": {
   "display_name": "env",
   "language": "python",
   "name": "python3"
  },
  "language_info": {
   "codemirror_mode": {
    "name": "ipython",
    "version": 3
   },
   "file_extension": ".py",
   "mimetype": "text/x-python",
   "name": "python",
   "nbconvert_exporter": "python",
   "pygments_lexer": "ipython3",
   "version": "3.10.4 (main, May 17 2022, 17:58:44) [Clang 13.1.6 (clang-1316.0.21.2.5)]"
  },
  "orig_nbformat": 4,
  "vscode": {
   "interpreter": {
    "hash": "14e238f0422ace89beef5d390dad5b6a63140dd1587467da945499bbb63733f6"
   }
  }
 },
 "nbformat": 4,
 "nbformat_minor": 2
}
