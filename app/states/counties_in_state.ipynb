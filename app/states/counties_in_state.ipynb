{
 "cells": [
  {
   "cell_type": "code",
   "execution_count": 181,
   "metadata": {},
   "outputs": [],
   "source": [
    "import cvxpy as cp\n",
    "import matplotlib.pyplot as plt\n",
    "import numexpr as ne\n",
    "import numpy as np\n",
    "import pandas as pd\n",
    "import plotly.graph_objects as go\n",
    "import re\n",
    "import squarify\n",
    "\n",
    "from functions import run_linear_programming, set_optimization_problem, save_data_to_time_series\n",
    "from helpers import fetch_area_data, fetch_industry_data, get_node_variables, get_optimization_variables\n",
    "from tree import build_county_tree, get_objective, get_constraints, build_state_tree, fetch_branch, \\\n",
    "    fetch_values_given_key, write_into\n",
    "from config import settings"
   ]
  },
  {
   "cell_type": "code",
   "execution_count": 2,
   "metadata": {},
   "outputs": [],
   "source": [
    "# Fetch state and county codes\n",
    "# Georgia\n",
    "state_code = '13'\n",
    "year = 2018\n",
    "df, url = fetch_industry_data(year, 4, '102')\n",
    "codes = list(np.unique(df[df['area_fips'].str.startswith(state_code)]['area_fips']))"
   ]
  },
  {
   "cell_type": "code",
   "execution_count": 7,
   "metadata": {},
   "outputs": [],
   "source": [
    "df, _ = fetch_area_data(year, 4, codes[0])\n",
    "state = build_state_tree(df, '10', 51)\n",
    "counties = {}\n",
    "for code in codes[1:]:\n",
    "    df, _ = fetch_area_data(year, 4, code)\n",
    "    county = build_county_tree(df, '10', 71)\n",
    "    counties[code] = county"
   ]
  },
  {
   "cell_type": "code",
   "execution_count": 97,
   "metadata": {},
   "outputs": [],
   "source": [
    "def get_state_objective(tree_code, tree, key, objective):\n",
    "    \"\"\"\n",
    "    Return the objective function as key_10 - sum (key_6digits)\n",
    "    \"\"\"\n",
    "    if len(tree['children'])==0:\n",
    "        if tree[key] == 0:\n",
    "            objective += f\" - {tree['est']}*{key[0]}pe_{tree_code}_{tree['ind']}\"\n",
    "        else:\n",
    "            objective += f\" - {tree[key]}\"\n",
    "    for child in tree['children']:\n",
    "        objective = get_state_objective(tree_code, child, key, objective)\n",
    "    return objective"
   ]
  },
  {
   "cell_type": "code",
   "execution_count": 98,
   "metadata": {},
   "outputs": [],
   "source": [
    "# Objective function\n",
    "objective = str(state['emp'])\n",
    "for code in codes[1:]:\n",
    "    objective = get_state_objective(code, counties[code], 'emp', objective)"
   ]
  },
  {
   "cell_type": "code",
   "execution_count": 99,
   "metadata": {},
   "outputs": [],
   "source": [
    "def get_tree_constraints(tree_code, tree, key, constraints):\n",
    "    \"\"\"\n",
    "    Return all the constraints in a tree\n",
    "    \"\"\"\n",
    "    if len(tree['children'])>0:\n",
    "        if tree[key] == 0:\n",
    "            constraint = f\"{tree['est']}*{key[0]}pe_{tree_code}_{tree['ind']} = \"\n",
    "        else:\n",
    "            constraint = f\"{tree[key]} = \"\n",
    "        for i,child in enumerate(tree['children']):\n",
    "            if i > 0:\n",
    "                constraint += ' + '\n",
    "            if child[key] == 0:\n",
    "                constraint+= f\"{child['est']}*{key[0]}pe_{tree_code}_{child['ind']} \"\n",
    "            else:\n",
    "                constraint+= f\"{child[key]}\"\n",
    "        if 'epe' in constraint:\n",
    "            check = constraint.split(' = ')\n",
    "            if check[0] != check[1]:\n",
    "                constraints.append(constraint)\n",
    "    for child in tree['children']:\n",
    "        constraints = get_tree_constraints(tree_code, child, key, constraints)\n",
    "    return constraints"
   ]
  },
  {
   "cell_type": "code",
   "execution_count": 100,
   "metadata": {},
   "outputs": [],
   "source": [
    "# County constraints\n",
    "counties_constraints = [] \n",
    "for code in codes[1:]:\n",
    "    counties_constraints = get_tree_constraints(code, counties[code], 'emp', counties_constraints)"
   ]
  },
  {
   "cell_type": "code",
   "execution_count": 101,
   "metadata": {},
   "outputs": [],
   "source": [
    "# State own constraints\n",
    "state_own_constraints = get_tree_constraints(codes[0], state, 'emp', [])"
   ]
  },
  {
   "cell_type": "code",
   "execution_count": 102,
   "metadata": {},
   "outputs": [],
   "source": [
    "# State-county constraints\n",
    "def get_state_county_constraints(state, counties, key):\n",
    "    \"\"\"\n",
    "    Return all the constraints in a tree\n",
    "    \"\"\"\n",
    "    state_county_constraints = []\n",
    "    state_inds = fetch_values_given_key(state, 'ind', [])\n",
    "    for state_ind in state_inds[1:]:\n",
    "        state_node = fetch_branch(state, 'ind', state_ind)\n",
    "        if state_node[key] == 0:\n",
    "            state_county_constraint = f\"{state_node['est']}*{key[0]}pe_{codes[0]}_{state_ind} = \"\n",
    "        else:\n",
    "            state_county_constraint = f\"{state_node[key]} = \"\n",
    "        for i,code in enumerate(counties.keys()):\n",
    "            county_node = fetch_branch(counties[code], 'ind', state_ind)\n",
    "            if county_node is not None:\n",
    "                if county_node[key] == 0:\n",
    "                    state_county_constraint += f\" + {county_node['est']}*{key[0]}pe_{code}_{state_ind}\"\n",
    "                else:\n",
    "                    state_county_constraint += f\" + {county_node[key]}\"\n",
    "        if f'{key[0]}pe' in state_county_constraint:\n",
    "            state_county_constraints.append(\n",
    "                state_county_constraint.replace('=  + ','= ')\n",
    "            )\n",
    "    return state_county_constraints"
   ]
  },
  {
   "cell_type": "code",
   "execution_count": 103,
   "metadata": {},
   "outputs": [],
   "source": [
    "state_county_constraints = get_state_county_constraints(state, counties, 'emp')"
   ]
  },
  {
   "cell_type": "code",
   "execution_count": 109,
   "metadata": {},
   "outputs": [
    {
     "data": {
      "text/plain": [
       "54550"
      ]
     },
     "execution_count": 109,
     "metadata": {},
     "output_type": "execute_result"
    }
   ],
   "source": [
    "constraints = counties_constraints + state_own_constraints + state_county_constraints\n",
    "len(constraints)"
   ]
  },
  {
   "cell_type": "code",
   "execution_count": 111,
   "metadata": {},
   "outputs": [
    {
     "data": {
      "text/plain": [
       "73476"
      ]
     },
     "execution_count": 111,
     "metadata": {},
     "output_type": "execute_result"
    }
   ],
   "source": [
    "variables = get_optimization_variables(constraints, 'emp')\n",
    "len(variables)"
   ]
  },
  {
   "cell_type": "code",
   "execution_count": 135,
   "metadata": {},
   "outputs": [],
   "source": [
    "for variable in variables:\n",
    "    exec(f\"{variable} = cp.Variable()\")\n",
    "numerical_constraints = []\n",
    "for i,constraint in enumerate(constraints):\n",
    "    numerical_constraints.append(eval(f\"{constraint.replace('=','>=')}\"))\n",
    "for variable in variables:\n",
    "    numerical_constraints.append(eval(f\"{variable}>= 0\"))"
   ]
  },
  {
   "cell_type": "code",
   "execution_count": 138,
   "metadata": {},
   "outputs": [],
   "source": [
    "import sys\n",
    "sys.setrecursionlimit(100000)\n",
    "exec(f\"objective = cp.Minimize(cp.abs({objective}))\")"
   ]
  },
  {
   "cell_type": "code",
   "execution_count": 139,
   "metadata": {},
   "outputs": [
    {
     "name": "stderr",
     "output_type": "stream",
     "text": [
      "/Users/nikolamirkov/Upwork/20221229 QCEW/QCEW-Project/env/lib/python3.10/site-packages/cvxpy/problems/problem.py:155: UserWarning: Objective contains too many subexpressions. Consider vectorizing your CVXPY code to speed up compilation.\n",
      "  warnings.warn(\"Objective contains too many subexpressions. \"\n",
      "/Users/nikolamirkov/Upwork/20221229 QCEW/QCEW-Project/env/lib/python3.10/site-packages/cvxpy/problems/problem.py:161: UserWarning: Constraint #0 contains too many subexpressions. Consider vectorizing your CVXPY code to speed up compilation.\n",
      "  warnings.warn(f\"Constraint #{i} contains too many subexpressions. \"\n",
      "/Users/nikolamirkov/Upwork/20221229 QCEW/QCEW-Project/env/lib/python3.10/site-packages/cvxpy/problems/problem.py:161: UserWarning: Constraint #1 contains too many subexpressions. Consider vectorizing your CVXPY code to speed up compilation.\n",
      "  warnings.warn(f\"Constraint #{i} contains too many subexpressions. \"\n",
      "/Users/nikolamirkov/Upwork/20221229 QCEW/QCEW-Project/env/lib/python3.10/site-packages/cvxpy/problems/problem.py:1385: UserWarning: Solution may be inaccurate. Try another solver, adjusting the solver settings, or solve with verbose=True for more information.\n",
      "  warnings.warn(\n"
     ]
    },
    {
     "data": {
      "text/plain": [
       "2.7372880140319467e-07"
      ]
     },
     "execution_count": 139,
     "metadata": {},
     "output_type": "execute_result"
    }
   ],
   "source": [
    "problem = cp.Problem(objective, numerical_constraints)\n",
    "problem.solve(solver=cp.ECOS)"
   ]
  },
  {
   "cell_type": "code",
   "execution_count": 176,
   "metadata": {},
   "outputs": [],
   "source": [
    "def extract_codes(variable):\n",
    "    \"\"\"\n",
    "    Return county code and industry code from a variable's name\n",
    "    \"\"\"\n",
    "    positions = [i for i, letter in enumerate(variable) if letter == '_']\n",
    "    county_code = variable[positions[0]+1:positions[1]]\n",
    "    industry_code = variable[positions[1]+1:].strip()\n",
    "    return county_code, industry_code"
   ]
  },
  {
   "cell_type": "code",
   "execution_count": 177,
   "metadata": {},
   "outputs": [],
   "source": [
    "key = 'emp'\n",
    "for variable in variables:\n",
    "    county_code, ind = extract_codes(variable)\n",
    "    if county_code == '13121':\n",
    "        if county_code in counties.keys():\n",
    "            county = counties[county_code]\n",
    "            branch = fetch_branch(county, 'ind', ind)\n",
    "            write_into(\n",
    "                county, \n",
    "                'ind', \n",
    "                branch['ind'],\n",
    "                {f'{key}_lp': branch['est'] * eval(f\"float({variable}.value)\")}\n",
    "            )"
   ]
  },
  {
   "cell_type": "code",
   "execution_count": 201,
   "metadata": {},
   "outputs": [],
   "source": [
    "# Fetch all industry codes in a period\n",
    "county_code = '13121'\n",
    "industry_codes=fetch_values_given_key(county, 'ind', [])\n",
    "employment_series = pd.DataFrame([], columns=np.unique(industry_codes))"
   ]
  },
  {
   "cell_type": "code",
   "execution_count": 202,
   "metadata": {},
   "outputs": [],
   "source": [
    "employment_series = save_data_to_time_series(\n",
    "        employment_series, county, industry_codes, 'emp', year\n",
    ") "
   ]
  },
  {
   "cell_type": "code",
   "execution_count": 203,
   "metadata": {},
   "outputs": [],
   "source": [
    "lightcast = pd.read_csv('lightcast.csv', index_col=[0])\n",
    "inds = list(employment_series.columns[employment_series.columns.str.len()==6])\n",
    "percentage_differences = pd.DataFrame([], columns=[year])"
   ]
  },
  {
   "cell_type": "code",
   "execution_count": 204,
   "metadata": {},
   "outputs": [
    {
     "name": "stdout",
     "output_type": "stream",
     "text": [
      "75.74664517381274\n"
     ]
    }
   ],
   "source": [
    "differences = []\n",
    "index = []\n",
    "for ind in inds:\n",
    "    if int(ind) in lightcast.index:\n",
    "        if lightcast.at[int(ind),str(year)] == '<10':\n",
    "            lightcast.at[int(ind),str(year)] = 5\n",
    "            lightcast_value = 5\n",
    "        else:\n",
    "            lightcast_value = int(lightcast.at[int(ind), str(year)])\n",
    "        edai_value = employment_series.at[year, ind]\n",
    "        if lightcast_value > 0:\n",
    "            differences.append((lightcast_value - edai_value))\n",
    "        else:\n",
    "            differences.append(np.nan)\n",
    "        index.append(ind)\n",
    "print(np.nanmean(np.abs(differences)))\n",
    "percentage_differences[year] = differences\n",
    "percentage_differences.index = index\n",
    "percentage_differences.to_csv('comparison 6 digits.csv')\n"
   ]
  },
  {
   "cell_type": "code",
   "execution_count": 208,
   "metadata": {},
   "outputs": [
    {
     "name": "stdout",
     "output_type": "stream",
     "text": [
      "762\n",
      "32467\n",
      "*** ind 561320 *** \n",
      "762\n",
      "32467\n"
     ]
    }
   ],
   "source": [
    "industry = fetch_branch(county, 'ind', '56132')\n",
    "print(industry['est'])\n",
    "print(industry['emp'])\n",
    "if industry.get('emp_ps') is not None:\n",
    "    print(f\"emp_ps {industry['emp_ps']}\")\n",
    "if industry.get('emp_lp') is not None:\n",
    "    print(f\"emp_lp {industry['emp_lp']}\")\n",
    "for child in industry['children']:\n",
    "    print(f\"*** ind {child['ind']} *** \")\n",
    "    print(child['est'])\n",
    "    print(child['emp'])\n",
    "    if child.get('emp_ps') is not None:\n",
    "        print(f\"emp_ps {child['emp_ps']}\")\n",
    "    if child.get('emp_lp') is not None:\n",
    "        print(f\"emp_lp {child['emp_lp']}\")"
   ]
  },
  {
   "cell_type": "code",
   "execution_count": 214,
   "metadata": {},
   "outputs": [
    {
     "name": "stdout",
     "output_type": "stream",
     "text": [
      "1748    32467\n",
      "Name: month3_emplvl, dtype: int64\n",
      "1748    30329\n",
      "Name: annual_avg_emplvl, dtype: int64\n"
     ]
    }
   ],
   "source": [
    "df, url = fetch_area_data(2021, 4, '13121')\n",
    "print(df[df['industry_code']=='561320']['month3_emplvl'])\n",
    "\n",
    "df, url = fetch_area_data(2021, 'a', '13121')\n",
    "print(df[df['industry_code']=='561320']['annual_avg_emplvl'])\n"
   ]
  }
 ],
 "metadata": {
  "kernelspec": {
   "display_name": "env",
   "language": "python",
   "name": "python3"
  },
  "language_info": {
   "codemirror_mode": {
    "name": "ipython",
    "version": 3
   },
   "file_extension": ".py",
   "mimetype": "text/x-python",
   "name": "python",
   "nbconvert_exporter": "python",
   "pygments_lexer": "ipython3",
   "version": "3.10.4"
  },
  "orig_nbformat": 4,
  "vscode": {
   "interpreter": {
    "hash": "14e238f0422ace89beef5d390dad5b6a63140dd1587467da945499bbb63733f6"
   }
  }
 },
 "nbformat": 4,
 "nbformat_minor": 2
}
