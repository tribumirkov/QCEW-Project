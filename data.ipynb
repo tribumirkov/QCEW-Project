{
 "cells": [
  {
   "cell_type": "code",
   "execution_count": 1,
   "metadata": {},
   "outputs": [],
   "source": [
    "import cvxpy as cp\n",
    "import matplotlib.pyplot as plt\n",
    "import numpy as np\n",
    "import pandas as pd\n",
    "import plotly.graph_objects as go\n",
    "import re\n",
    "import squarify\n",
    "\n",
    "from functions import run_proportional_scaling\n",
    "from helpers import fetch_area_data, get_variables\n",
    "from tree import build_tree, fetch_branch, fetch_values_given_key, get_subindustries_data, get_constraints, write_into\n",
    "from config import settings"
   ]
  },
  {
   "cell_type": "code",
   "execution_count": 2,
   "metadata": {},
   "outputs": [],
   "source": [
    "print('51163 Rockbridge County, Virginia')\n",
    "df, url = fetch_area_data('2021',4,'51163')"
   ]
  },
  {
   "cell_type": "code",
   "execution_count": null,
   "metadata": {},
   "outputs": [],
   "source": [
    "# https://www.bls.gov/cew/classifications/aggregation/agg-level-titles.htm\n",
    "total_establishments = int(df[df['agglvl_code']==70][settings.establishments])\n",
    "print(f\"Total establishments in the county: {total_establishments}\") \n",
    "aggregations = range(74,78+1)\n",
    "for aggregation in aggregations:\n",
    "    print(f\"The sum of establishment counts at level {aggregation}: {np.sum(df[df['agglvl_code']==aggregation][settings.establishments])}\")"
   ]
  },
  {
   "cell_type": "code",
   "execution_count": null,
   "metadata": {},
   "outputs": [],
   "source": [
    "# cast data into a tree structure with nested mappings\n",
    "# county = {'ind': 10, 'est': 533, 'emp': 5937, children': [{}, {}, ...]}\n",
    "county = build_tree(df, '10', 71)"
   ]
  },
  {
   "cell_type": "code",
   "execution_count": null,
   "metadata": {},
   "outputs": [],
   "source": [
    "# Return industry details\n",
    "industry = fetch_branch(county, 'ind', '62')\n",
    "sub_industries = [sub_industry['ind'] for sub_industry in industry['children']]\n",
    "est = [sub_industry['est'] for sub_industry in industry['children']]\n",
    "\n",
    "sub_industries_sorted = [ind for _, ind in sorted(zip(est, sub_industries), reverse=True)]\n",
    "est_sorted = sorted(est, reverse=True)\n",
    "squarify.plot(sizes=est_sorted, label=sub_industries_sorted)\n",
    "plt.axis('off')\n",
    "plt.show()"
   ]
  },
  {
   "cell_type": "code",
   "execution_count": null,
   "metadata": {},
   "outputs": [],
   "source": [
    "# Proportional scaling example\n",
    "industry = fetch_branch(county, 'ind', '10')\n",
    "print('*** overall number of establishments ***')\n",
    "print(industry['est'])\n",
    "print('*** overall employment ***')\n",
    "print(industry['emp'])\n",
    "print('*** sub industries ***')\n",
    "print([sub_industry['ind'] for sub_industry in industry['children']])\n",
    "print('*** number of establishments in the sub industries ***')\n",
    "print([sub_industry['est'] for sub_industry in industry['children']])\n",
    "print('*** employment in the sub industries ***')\n",
    "print([sub_industry['emp'] for sub_industry in industry['children']])\n",
    "print('*** employment approximation proportional scaling ***')\n",
    "establishments = np.array([sub_industry['est'] for sub_industry in industry['children']])\n",
    "employment = np.array([sub_industry['emp'] for sub_industry in industry['children']],dtype = object)\n",
    "employment_ps = employment.copy()\n",
    "undisclosed_est = np.sum(establishments[np.where(employment==0)])\n",
    "undisclosed_emp = industry['emp'] - np.sum(employment)\n",
    "employment_ps[np.where(employment==0)] = establishments[np.where(employment==0)]/undisclosed_est*undisclosed_emp\n",
    "print(employment_ps)\n",
    "print('*** wages in the sub industries ***')\n",
    "print([sub_industry['wages'] for sub_industry in industry['children']])\n",
    "print('*** wages approximation proportional scaling ***')\n",
    "establishments = np.array([sub_industry['est'] for sub_industry in industry['children']])\n",
    "wages = np.array([sub_industry['wages'] for sub_industry in industry['children']],dtype = object)\n",
    "wages_ps = wages.copy()\n",
    "undisclosed_est = np.sum(establishments[np.where(wages==0)])\n",
    "undisclosed_wages = industry['wages'] - np.sum(wages)\n",
    "wages_ps[np.where(wages==0)] = establishments[np.where(wages==0)]/undisclosed_est*undisclosed_wages\n",
    "print(wages_ps)\n",
    "\n"
   ]
  },
  {
   "cell_type": "code",
   "execution_count": null,
   "metadata": {},
   "outputs": [],
   "source": [
    "fig = go.Figure()\n",
    "fig.add_trace(\n",
    "    go.Bar(\n",
    "        y = employment,\n",
    "        name = 'employment'\n",
    "    )\n",
    ")\n",
    "fig.add_trace(\n",
    "    go.Bar(\n",
    "        y = employment_ps,\n",
    "        name = 'employment ps'\n",
    "    )\n",
    ")\n",
    "fig.update_layout(\n",
    "    title='Employment and employment approximation',\n",
    "    width=800,\n",
    "    height=450,\n",
    "    legend=dict(\n",
    "                y=0.99,\n",
    "                x=0.01\n",
    "                )\n",
    ")"
   ]
  },
  {
   "cell_type": "code",
   "execution_count": null,
   "metadata": {},
   "outputs": [],
   "source": [
    "fig = go.Figure()\n",
    "fig.add_trace(\n",
    "    go.Bar(\n",
    "        y = wages,\n",
    "        name = 'wages'\n",
    "    )\n",
    ")\n",
    "fig.add_trace(\n",
    "    go.Bar(\n",
    "        y = wages_ps,\n",
    "        name = 'wages ps'\n",
    "    )\n",
    ")\n",
    "fig.update_layout(\n",
    "    title='Wages and wages approximation',\n",
    "    width=800,\n",
    "    height=450,\n",
    "    legend=dict(\n",
    "                y=0.99,\n",
    "                x=0.01\n",
    "                )\n",
    ")"
   ]
  },
  {
   "cell_type": "code",
   "execution_count": null,
   "metadata": {},
   "outputs": [],
   "source": [
    "# loop through the entire tree\n",
    "for ind in fetch_values_given_key(county, 'ind', []):\n",
    "    industry = fetch_branch(county, 'ind', ind)\n",
    "    data = get_subindustries_data(industry)\n",
    "    county = run_proportional_scaling(county, industry, data)"
   ]
  },
  {
   "cell_type": "code",
   "execution_count": null,
   "metadata": {},
   "outputs": [],
   "source": [
    "# Define constraints\n",
    "constraints = get_constraints(county, 'emp', [])\n",
    "variables = []\n",
    "for constraint in constraints:\n",
    "    variables+=re.findall(r\"epe_[^ ]* \", constraint)\n",
    "\n",
    "# Define variables\n",
    "for variable in variables:\n",
    "    exec(f\"{variable} = cp.Variable()\")\n",
    "\n",
    "# Define the objective function\n",
    "exec(f\"objective = cp.Minimize(cp.abs({constraints[0].replace('=', '-').replace('+', '-')}))\")\n",
    "\n",
    "# Define numerical constraints\n",
    "numerical_constraints = []\n",
    "for i,constraint in enumerate(constraints):\n",
    "    if i > 0:\n",
    "        numerical_constraints.append(eval(f\"{constraint.replace('=','==')}\"))\n",
    "# Adding non-negativity constraints for the variables\n",
    "for variable in variables:\n",
    "    numerical_constraints.append(eval(f\"{variable}>= 0\"))\n",
    "\n",
    "# Form and solve the problem\n",
    "problem = cp.Problem(objective, numerical_constraints)\n",
    "problem.solve()"
   ]
  },
  {
   "cell_type": "code",
   "execution_count": null,
   "metadata": {},
   "outputs": [],
   "source": [
    "constraints"
   ]
  },
  {
   "cell_type": "code",
   "execution_count": null,
   "metadata": {},
   "outputs": [],
   "source": [
    "for variable in variables:\n",
    "    ind = variable[variable.find('_')+1:-1]\n",
    "    branch = fetch_branch(county, 'ind', ind)\n",
    "    if branch['emp'] == 0:\n",
    "        write_into(\n",
    "            county, 'ind', branch['ind'],\n",
    "            {'emp_lp': branch['est'] * eval(f\"float({variable}.value)\")}\n",
    "        )\n"
   ]
  },
  {
   "cell_type": "code",
   "execution_count": null,
   "metadata": {},
   "outputs": [],
   "source": [
    "industry = fetch_branch(county, 'ind', '5221')\n",
    "print(industry['est'])\n",
    "print(industry['emp'])\n",
    "if industry.get('emp_ps') is not None:\n",
    "    print(f\"emp_ps {industry['emp_ps']}\")\n",
    "if industry.get('emp_lp') is not None:\n",
    "    print(f\"emp_lp {industry['emp_lp']}\")\n",
    "for child in industry['children']:\n",
    "    print(f\"*** ind {child['ind']} *** \")\n",
    "    print(child['est'])\n",
    "    print(child['emp'])\n",
    "    if child.get('emp_ps') is not None:\n",
    "        print(f\"emp_ps {child['emp_ps']}\")\n",
    "    if child.get('emp_lp') is not None:\n",
    "        print(f\"emp_lp {child['emp_lp']}\")"
   ]
  },
  {
   "cell_type": "code",
   "execution_count": null,
   "metadata": {},
   "outputs": [],
   "source": [
    "# download all 6 digit codes or make a treemap\n",
    "# for ind in fetch_values_given_key(county, 'ind', []):\n",
    "#     if len(ind) == 6:\n",
    "#         print(fetch_branch(county, 'ind', ind)) "
   ]
  },
  {
   "cell_type": "code",
   "execution_count": null,
   "metadata": {},
   "outputs": [],
   "source": [
    "# df, url = fetch_area_data('2021',4,'51163')\n",
    "# county = build_tree(df, '10', 71)"
   ]
  }
 ],
 "metadata": {
  "kernelspec": {
   "display_name": "env",
   "language": "python",
   "name": "python3"
  },
  "language_info": {
   "codemirror_mode": {
    "name": "ipython",
    "version": 3
   },
   "file_extension": ".py",
   "mimetype": "text/x-python",
   "name": "python",
   "nbconvert_exporter": "python",
   "pygments_lexer": "ipython3",
   "version": "3.10.4"
  },
  "orig_nbformat": 4,
  "vscode": {
   "interpreter": {
    "hash": "14e238f0422ace89beef5d390dad5b6a63140dd1587467da945499bbb63733f6"
   }
  }
 },
 "nbformat": 4,
 "nbformat_minor": 2
}
