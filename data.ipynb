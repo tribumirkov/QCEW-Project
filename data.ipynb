{
 "cells": [
  {
   "cell_type": "code",
   "execution_count": 1,
   "metadata": {},
   "outputs": [],
   "source": [
    "import matplotlib.pyplot as plt\n",
    "import numpy as np\n",
    "import pandas as pd\n",
    "import squarify\n",
    "\n",
    "from helpers import fetch_area_data, get_children_codes, get_variables\n",
    "from tree import Tree\n",
    "from config import settings"
   ]
  },
  {
   "cell_type": "code",
   "execution_count": 2,
   "metadata": {},
   "outputs": [
    {
     "name": "stdout",
     "output_type": "stream",
     "text": [
      "51163 Rockbridge County, Virginia\n"
     ]
    }
   ],
   "source": [
    "print('51163 Rockbridge County, Virginia')\n",
    "df = fetch_area_data('2021','a','51163')"
   ]
  },
  {
   "cell_type": "code",
   "execution_count": 3,
   "metadata": {},
   "outputs": [
    {
     "name": "stdout",
     "output_type": "stream",
     "text": [
      "Total establishments in the county: 533\n",
      "The sum of establishment counts at level 74: 533\n",
      "The sum of establishment counts at level 75: 536\n",
      "The sum of establishment counts at level 76: 539\n",
      "The sum of establishment counts at level 77: 541\n",
      "The sum of establishment counts at level 78: 540\n"
     ]
    }
   ],
   "source": [
    "# https://www.bls.gov/cew/classifications/aggregation/agg-level-titles.htm\n",
    "print(f\"Total establishments in the county: {int(df[df['agglvl_code']==70]['annual_avg_estabs'])}\") \n",
    "aggregations = range(74,78+1)\n",
    "for aggregation in aggregations:\n",
    "    print(f\"The sum of establishment counts at level {aggregation}: {np.sum(df[df['agglvl_code']==aggregation]['annual_avg_estabs'])}\")"
   ]
  },
  {
   "cell_type": "code",
   "execution_count": 9,
   "metadata": {},
   "outputs": [],
   "source": [
    "# cast data into a tree structure with nested mappings\n",
    "# county = {'ind': 10, 'estabs': 533, 'empl': 5937, children': [{}, {}, ...]}\n",
    "\n",
    "# root\n",
    "where = (df['industry_code']=='10') & (df['agglvl_code']==70)\n",
    "estabs = df[where]['annual_avg_estabs'].values[0]\n",
    "empl = df[where]['annual_avg_emplvl'].values[0]\n",
    "county = Tree('10', estabs, empl, [])\n",
    "\n",
    "# 74 (demo)\n",
    "aggregation = 74\n",
    "codes = np.unique(sorted(list(df['industry_code'][df['agglvl_code']==aggregation])))\n",
    "for code in codes:\n",
    "    estabs, empl = get_variables(df, code)\n",
    "    children_codes = get_children_codes(df, code, aggregation)\n",
    "    county.children.append(Tree(code, estabs, empl, children_codes))\n"
   ]
  },
  {
   "cell_type": "code",
   "execution_count": null,
   "metadata": {},
   "outputs": [
    {
     "data": {
      "image/png": "[encoded data removed]",
      "text/plain": [
       "<Figure size 640x480 with 1 Axes>"
      ]
     },
     "metadata": {},
     "output_type": "display_data"
    }
   ],
   "source": [
    "inds = [county.children[i].ind for i,_ in enumerate(county.children)]\n",
    "estabs = [county.children[i].estabs for i,_ in enumerate(county.children)]\n",
    "\n",
    "inds_sorted = [ind for _, ind in sorted(zip(estabs, inds), reverse=True)]\n",
    "estabs_sorted = sorted(estabs, reverse=True)\n",
    "squarify.plot(sizes=estabs_sorted, label=inds_sorted)\n",
    "plt.axis('off')\n",
    "plt.show()"
   ]
  }
 ],
 "metadata": {
  "kernelspec": {
   "display_name": "env",
   "language": "python",
   "name": "python3"
  },
  "language_info": {
   "codemirror_mode": {
    "name": "ipython",
    "version": 3
   },
   "file_extension": ".py",
   "mimetype": "text/x-python",
   "name": "python",
   "nbconvert_exporter": "python",
   "pygments_lexer": "ipython3",
   "version": "3.10.4"
  },
  "orig_nbformat": 4,
  "vscode": {
   "interpreter": {
    "hash": "14e238f0422ace89beef5d390dad5b6a63140dd1587467da945499bbb63733f6"
   }
  }
 },
 "nbformat": 4,
 "nbformat_minor": 2
}
