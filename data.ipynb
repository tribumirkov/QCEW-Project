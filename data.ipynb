{
 "cells": [
  {
   "cell_type": "code",
   "execution_count": 1,
   "metadata": {},
   "outputs": [],
   "source": [
    "import matplotlib.pyplot as plt\n",
    "import numpy as np\n",
    "import pandas as pd\n",
    "import plotly.graph_objects as go\n",
    "import squarify\n",
    "\n",
    "from functions import run_proportional_scaling\n",
    "from helpers import fetch_area_data, get_variables\n",
    "from tree import build_tree, fetch_branch, fetch_values_given_key, get_subindustries_data\n",
    "from config import settings"
   ]
  },
  {
   "cell_type": "code",
   "execution_count": 2,
   "metadata": {},
   "outputs": [
    {
     "name": "stdout",
     "output_type": "stream",
     "text": [
      "51163 Rockbridge County, Virginia\n"
     ]
    }
   ],
   "source": [
    "print('51163 Rockbridge County, Virginia')\n",
    "df, url = fetch_area_data('2021',4,'51163')"
   ]
  },
  {
   "cell_type": "code",
   "execution_count": 3,
   "metadata": {},
   "outputs": [
    {
     "name": "stdout",
     "output_type": "stream",
     "text": [
      "Total establishments in the county: 542\n",
      "The sum of establishment counts at level 74: 542\n",
      "The sum of establishment counts at level 75: 542\n",
      "The sum of establishment counts at level 76: 542\n",
      "The sum of establishment counts at level 77: 542\n",
      "The sum of establishment counts at level 78: 542\n"
     ]
    }
   ],
   "source": [
    "# https://www.bls.gov/cew/classifications/aggregation/agg-level-titles.htm\n",
    "total_establishments = int(df[df['agglvl_code']==70][settings.establishments])\n",
    "print(f\"Total establishments in the county: {total_establishments}\") \n",
    "aggregations = range(74,78+1)\n",
    "for aggregation in aggregations:\n",
    "    print(f\"The sum of establishment counts at level {aggregation}: {np.sum(df[df['agglvl_code']==aggregation][settings.establishments])}\")"
   ]
  },
  {
   "cell_type": "code",
   "execution_count": 4,
   "metadata": {},
   "outputs": [],
   "source": [
    "# cast data into a tree structure with nested mappings\n",
    "# county = {'ind': 10, 'est': 533, 'emp': 5937, children': [{}, {}, ...]}\n",
    "county = build_tree(df, '10', 71)"
   ]
  },
  {
   "cell_type": "code",
   "execution_count": 5,
   "metadata": {},
   "outputs": [
    {
     "data": {
      "image/png": "[encoded data removed]",
      "text/plain": [
       "<Figure size 640x480 with 1 Axes>"
      ]
     },
     "metadata": {},
     "output_type": "display_data"
    }
   ],
   "source": [
    "# Return industry details\n",
    "industry = fetch_branch(county, 'ind', '62')\n",
    "sub_industries = [sub_industry['ind'] for sub_industry in industry['children']]\n",
    "est = [sub_industry['est'] for sub_industry in industry['children']]\n",
    "\n",
    "sub_industries_sorted = [ind for _, ind in sorted(zip(est, sub_industries), reverse=True)]\n",
    "est_sorted = sorted(est, reverse=True)\n",
    "squarify.plot(sizes=est_sorted, label=sub_industries_sorted)\n",
    "plt.axis('off')\n",
    "plt.show()"
   ]
  },
  {
   "cell_type": "code",
   "execution_count": 6,
   "metadata": {},
   "outputs": [
    {
     "name": "stdout",
     "output_type": "stream",
     "text": [
      "*** overall number of establishments ***\n",
      "512\n",
      "*** overall employment ***\n",
      "4752\n",
      "*** sub industries ***\n",
      "['11', '21', '22', '23', '31-33', '42', '44-45', '48-49', '51', '52', '53', '54', '55', '56', '61', '62', '71', '72', '81', '99']\n",
      "*** number of establishments in the sub industries ***\n",
      "[17, 1, 2, 74, 25, 13, 62, 17, 9, 18, 9, 33, 2, 26, 5, 87, 13, 46, 41, 12]\n",
      "*** employment in the sub industries ***\n",
      "[0, 0, 0, 369, 897, 0, 1196, 77, 29, 106, 18, 0, 0, 0, 69, 507, 112, 584, 148, 17]\n",
      "*** employment approximation proportional scaling ***\n",
      "[112.67021276595746 6.627659574468085 13.25531914893617 369 897\n",
      " 86.15957446808511 1196 77 29 106 18 218.7127659574468 13.25531914893617\n",
      " 172.31914893617022 69 507 112 584 148 17]\n",
      "*** wages in the sub industries ***\n",
      "[0, 0, 0, 5804030, 10083092, 0, 9508668, 1079078, 400983, 1485148, 279793, 0, 0, 0, 683429, 5824644, 1057960, 3722327, 1286572, 142041]\n",
      "*** wages approximation proportional scaling ***\n",
      "[1471543.510638298 86561.3829787234 173122.7659574468 5804030 10083092\n",
      " 1125297.9787234042 9508668 1079078 400983 1485148 279793\n",
      " 2856525.6382978726 173122.7659574468 2250595.9574468085 683429 5824644\n",
      " 1057960 3722327 1286572 142041]\n"
     ]
    }
   ],
   "source": [
    "# Proportional scaling example\n",
    "industry = fetch_branch(county, 'ind', '10')\n",
    "print('*** overall number of establishments ***')\n",
    "print(industry['est'])\n",
    "print('*** overall employment ***')\n",
    "print(industry['emp'])\n",
    "print('*** sub industries ***')\n",
    "print([sub_industry['ind'] for sub_industry in industry['children']])\n",
    "print('*** number of establishments in the sub industries ***')\n",
    "print([sub_industry['est'] for sub_industry in industry['children']])\n",
    "print('*** employment in the sub industries ***')\n",
    "print([sub_industry['emp'] for sub_industry in industry['children']])\n",
    "print('*** employment approximation proportional scaling ***')\n",
    "establishments = np.array([sub_industry['est'] for sub_industry in industry['children']])\n",
    "employment = np.array([sub_industry['emp'] for sub_industry in industry['children']],dtype = object)\n",
    "employment_ps = employment.copy()\n",
    "undisclosed_est = np.sum(establishments[np.where(employment==0)])\n",
    "undisclosed_emp = industry['emp'] - np.sum(employment)\n",
    "employment_ps[np.where(employment==0)] = establishments[np.where(employment==0)]/undisclosed_est*undisclosed_emp\n",
    "print(employment_ps)\n",
    "print('*** wages in the sub industries ***')\n",
    "print([sub_industry['wages'] for sub_industry in industry['children']])\n",
    "print('*** wages approximation proportional scaling ***')\n",
    "establishments = np.array([sub_industry['est'] for sub_industry in industry['children']])\n",
    "wages = np.array([sub_industry['wages'] for sub_industry in industry['children']],dtype = object)\n",
    "wages_ps = wages.copy()\n",
    "undisclosed_est = np.sum(establishments[np.where(wages==0)])\n",
    "undisclosed_wages = industry['wages'] - np.sum(wages)\n",
    "wages_ps[np.where(wages==0)] = establishments[np.where(wages==0)]/undisclosed_est*undisclosed_wages\n",
    "print(wages_ps)\n",
    "\n"
   ]
  },
  {
   "cell_type": "code",
   "execution_count": 7,
   "metadata": {},
   "outputs": [
    {
     "data": {
      "application/vnd.plotly.v1+json": {
       "config": {
        "plotlyServerURL": "https://plot.ly"
       },
       "data": [
        {
         "name": "employment",
         "type": "bar",
         "y": [
          0,
          0,
          0,
          369,
          897,
          0,
          1196,
          77,
          29,
          106,
          18,
          0,
          0,
          0,
          69,
          507,
          112,
          584,
          148,
          17
         ]
        },
        {
         "name": "employment ps",
         "type": "bar",
         "y": [
          112.67021276595746,
          6.627659574468085,
          13.25531914893617,
          369,
          897,
          86.15957446808511,
          1196,
          77,
          29,
          106,
          18,
          218.7127659574468,
          13.25531914893617,
          172.31914893617022,
          69,
          507,
          112,
          584,
          148,
          17
         ]
        }
       ],
       "layout": {
        "height": 450,
        "legend": {
         "x": 0.01,
         "y": 0.99
        },
        "template": {
         "data": {
          "bar": [
           {
            "error_x": {
             "color": "#2a3f5f"
            },
            "error_y": {
             "color": "#2a3f5f"
            },
            "marker": {
             "line": {
              "color": "#E5ECF6",
              "width": 0.5
             },
             "pattern": {
              "fillmode": "overlay",
              "size": 10,
              "solidity": 0.2
             }
            },
            "type": "bar"
           }
          ],
          "barpolar": [
           {
            "marker": {
             "line": {
              "color": "#E5ECF6",
              "width": 0.5
             },
             "pattern": {
              "fillmode": "overlay",
              "size": 10,
              "solidity": 0.2
             }
            },
            "type": "barpolar"
           }
          ],
          "carpet": [
           {
            "aaxis": {
             "endlinecolor": "#2a3f5f",
             "gridcolor": "white",
             "linecolor": "white",
             "minorgridcolor": "white",
             "startlinecolor": "#2a3f5f"
            },
            "baxis": {
             "endlinecolor": "#2a3f5f",
             "gridcolor": "white",
             "linecolor": "white",
             "minorgridcolor": "white",
             "startlinecolor": "#2a3f5f"
            },
            "type": "carpet"
           }
          ],
          "choropleth": [
           {
            "colorbar": {
             "outlinewidth": 0,
             "ticks": ""
            },
            "type": "choropleth"
           }
          ],
          "contour": [
           {
            "colorbar": {
             "outlinewidth": 0,
             "ticks": ""
            },
            "colorscale": [
             [
              0,
              "#0d0887"
             ],
             [
              0.1111111111111111,
              "#46039f"
             ],
             [
              0.2222222222222222,
              "#7201a8"
             ],
             [
              0.3333333333333333,
              "#9c179e"
             ],
             [
              0.4444444444444444,
              "#bd3786"
             ],
             [
              0.5555555555555556,
              "#d8576b"
             ],
             [
              0.6666666666666666,
              "#ed7953"
             ],
             [
              0.7777777777777778,
              "#fb9f3a"
             ],
             [
              0.8888888888888888,
              "#fdca26"
             ],
             [
              1,
              "#f0f921"
             ]
            ],
            "type": "contour"
           }
          ],
          "contourcarpet": [
           {
            "colorbar": {
             "outlinewidth": 0,
             "ticks": ""
            },
            "type": "contourcarpet"
           }
          ],
          "heatmap": [
           {
            "colorbar": {
             "outlinewidth": 0,
             "ticks": ""
            },
            "colorscale": [
             [
              0,
              "#0d0887"
             ],
             [
              0.1111111111111111,
              "#46039f"
             ],
             [
              0.2222222222222222,
              "#7201a8"
             ],
             [
              0.3333333333333333,
              "#9c179e"
             ],
             [
              0.4444444444444444,
              "#bd3786"
             ],
             [
              0.5555555555555556,
              "#d8576b"
             ],
             [
              0.6666666666666666,
              "#ed7953"
             ],
             [
              0.7777777777777778,
              "#fb9f3a"
             ],
             [
              0.8888888888888888,
              "#fdca26"
             ],
             [
              1,
              "#f0f921"
             ]
            ],
            "type": "heatmap"
           }
          ],
          "heatmapgl": [
           {
            "colorbar": {
             "outlinewidth": 0,
             "ticks": ""
            },
            "colorscale": [
             [
              0,
              "#0d0887"
             ],
             [
              0.1111111111111111,
              "#46039f"
             ],
             [
              0.2222222222222222,
              "#7201a8"
             ],
             [
              0.3333333333333333,
              "#9c179e"
             ],
             [
              0.4444444444444444,
              "#bd3786"
             ],
             [
              0.5555555555555556,
              "#d8576b"
             ],
             [
              0.6666666666666666,
              "#ed7953"
             ],
             [
              0.7777777777777778,
              "#fb9f3a"
             ],
             [
              0.8888888888888888,
              "#fdca26"
             ],
             [
              1,
              "#f0f921"
             ]
            ],
            "type": "heatmapgl"
           }
          ],
          "histogram": [
           {
            "marker": {
             "pattern": {
              "fillmode": "overlay",
              "size": 10,
              "solidity": 0.2
             }
            },
            "type": "histogram"
           }
          ],
          "histogram2d": [
           {
            "colorbar": {
             "outlinewidth": 0,
             "ticks": ""
            },
            "colorscale": [
             [
              0,
              "#0d0887"
             ],
             [
              0.1111111111111111,
              "#46039f"
             ],
             [
              0.2222222222222222,
              "#7201a8"
             ],
             [
              0.3333333333333333,
              "#9c179e"
             ],
             [
              0.4444444444444444,
              "#bd3786"
             ],
             [
              0.5555555555555556,
              "#d8576b"
             ],
             [
              0.6666666666666666,
              "#ed7953"
             ],
             [
              0.7777777777777778,
              "#fb9f3a"
             ],
             [
              0.8888888888888888,
              "#fdca26"
             ],
             [
              1,
              "#f0f921"
             ]
            ],
            "type": "histogram2d"
           }
          ],
          "histogram2dcontour": [
           {
            "colorbar": {
             "outlinewidth": 0,
             "ticks": ""
            },
            "colorscale": [
             [
              0,
              "#0d0887"
             ],
             [
              0.1111111111111111,
              "#46039f"
             ],
             [
              0.2222222222222222,
              "#7201a8"
             ],
             [
              0.3333333333333333,
              "#9c179e"
             ],
             [
              0.4444444444444444,
              "#bd3786"
             ],
             [
              0.5555555555555556,
              "#d8576b"
             ],
             [
              0.6666666666666666,
              "#ed7953"
             ],
             [
              0.7777777777777778,
              "#fb9f3a"
             ],
             [
              0.8888888888888888,
              "#fdca26"
             ],
             [
              1,
              "#f0f921"
             ]
            ],
            "type": "histogram2dcontour"
           }
          ],
          "mesh3d": [
           {
            "colorbar": {
             "outlinewidth": 0,
             "ticks": ""
            },
            "type": "mesh3d"
           }
          ],
          "parcoords": [
           {
            "line": {
             "colorbar": {
              "outlinewidth": 0,
              "ticks": ""
             }
            },
            "type": "parcoords"
           }
          ],
          "pie": [
           {
            "automargin": true,
            "type": "pie"
           }
          ],
          "scatter": [
           {
            "fillpattern": {
             "fillmode": "overlay",
             "size": 10,
             "solidity": 0.2
            },
            "type": "scatter"
           }
          ],
          "scatter3d": [
           {
            "line": {
             "colorbar": {
              "outlinewidth": 0,
              "ticks": ""
             }
            },
            "marker": {
             "colorbar": {
              "outlinewidth": 0,
              "ticks": ""
             }
            },
            "type": "scatter3d"
           }
          ],
          "scattercarpet": [
           {
            "marker": {
             "colorbar": {
              "outlinewidth": 0,
              "ticks": ""
             }
            },
            "type": "scattercarpet"
           }
          ],
          "scattergeo": [
           {
            "marker": {
             "colorbar": {
              "outlinewidth": 0,
              "ticks": ""
             }
            },
            "type": "scattergeo"
           }
          ],
          "scattergl": [
           {
            "marker": {
             "colorbar": {
              "outlinewidth": 0,
              "ticks": ""
             }
            },
            "type": "scattergl"
           }
          ],
          "scattermapbox": [
           {
            "marker": {
             "colorbar": {
              "outlinewidth": 0,
              "ticks": ""
             }
            },
            "type": "scattermapbox"
           }
          ],
          "scatterpolar": [
           {
            "marker": {
             "colorbar": {
              "outlinewidth": 0,
              "ticks": ""
             }
            },
            "type": "scatterpolar"
           }
          ],
          "scatterpolargl": [
           {
            "marker": {
             "colorbar": {
              "outlinewidth": 0,
              "ticks": ""
             }
            },
            "type": "scatterpolargl"
           }
          ],
          "scatterternary": [
           {
            "marker": {
             "colorbar": {
              "outlinewidth": 0,
              "ticks": ""
             }
            },
            "type": "scatterternary"
           }
          ],
          "surface": [
           {
            "colorbar": {
             "outlinewidth": 0,
             "ticks": ""
            },
            "colorscale": [
             [
              0,
              "#0d0887"
             ],
             [
              0.1111111111111111,
              "#46039f"
             ],
             [
              0.2222222222222222,
              "#7201a8"
             ],
             [
              0.3333333333333333,
              "#9c179e"
             ],
             [
              0.4444444444444444,
              "#bd3786"
             ],
             [
              0.5555555555555556,
              "#d8576b"
             ],
             [
              0.6666666666666666,
              "#ed7953"
             ],
             [
              0.7777777777777778,
              "#fb9f3a"
             ],
             [
              0.8888888888888888,
              "#fdca26"
             ],
             [
              1,
              "#f0f921"
             ]
            ],
            "type": "surface"
           }
          ],
          "table": [
           {
            "cells": {
             "fill": {
              "color": "#EBF0F8"
             },
             "line": {
              "color": "white"
             }
            },
            "header": {
             "fill": {
              "color": "#C8D4E3"
             },
             "line": {
              "color": "white"
             }
            },
            "type": "table"
           }
          ]
         },
         "layout": {
          "annotationdefaults": {
           "arrowcolor": "#2a3f5f",
           "arrowhead": 0,
           "arrowwidth": 1
          },
          "autotypenumbers": "strict",
          "coloraxis": {
           "colorbar": {
            "outlinewidth": 0,
            "ticks": ""
           }
          },
          "colorscale": {
           "diverging": [
            [
             0,
             "#8e0152"
            ],
            [
             0.1,
             "#c51b7d"
            ],
            [
             0.2,
             "#de77ae"
            ],
            [
             0.3,
             "#f1b6da"
            ],
            [
             0.4,
             "#fde0ef"
            ],
            [
             0.5,
             "#f7f7f7"
            ],
            [
             0.6,
             "#e6f5d0"
            ],
            [
             0.7,
             "#b8e186"
            ],
            [
             0.8,
             "#7fbc41"
            ],
            [
             0.9,
             "#4d9221"
            ],
            [
             1,
             "#276419"
            ]
           ],
           "sequential": [
            [
             0,
             "#0d0887"
            ],
            [
             0.1111111111111111,
             "#46039f"
            ],
            [
             0.2222222222222222,
             "#7201a8"
            ],
            [
             0.3333333333333333,
             "#9c179e"
            ],
            [
             0.4444444444444444,
             "#bd3786"
            ],
            [
             0.5555555555555556,
             "#d8576b"
            ],
            [
             0.6666666666666666,
             "#ed7953"
            ],
            [
             0.7777777777777778,
             "#fb9f3a"
            ],
            [
             0.8888888888888888,
             "#fdca26"
            ],
            [
             1,
             "#f0f921"
            ]
           ],
           "sequentialminus": [
            [
             0,
             "#0d0887"
            ],
            [
             0.1111111111111111,
             "#46039f"
            ],
            [
             0.2222222222222222,
             "#7201a8"
            ],
            [
             0.3333333333333333,
             "#9c179e"
            ],
            [
             0.4444444444444444,
             "#bd3786"
            ],
            [
             0.5555555555555556,
             "#d8576b"
            ],
            [
             0.6666666666666666,
             "#ed7953"
            ],
            [
             0.7777777777777778,
             "#fb9f3a"
            ],
            [
             0.8888888888888888,
             "#fdca26"
            ],
            [
             1,
             "#f0f921"
            ]
           ]
          },
          "colorway": [
           "#636efa",
           "#EF553B",
           "#00cc96",
           "#ab63fa",
           "#FFA15A",
           "#19d3f3",
           "#FF6692",
           "#B6E880",
           "#FF97FF",
           "#FECB52"
          ],
          "font": {
           "color": "#2a3f5f"
          },
          "geo": {
           "bgcolor": "white",
           "lakecolor": "white",
           "landcolor": "#E5ECF6",
           "showlakes": true,
           "showland": true,
           "subunitcolor": "white"
          },
          "hoverlabel": {
           "align": "left"
          },
          "hovermode": "closest",
          "mapbox": {
           "style": "light"
          },
          "paper_bgcolor": "white",
          "plot_bgcolor": "#E5ECF6",
          "polar": {
           "angularaxis": {
            "gridcolor": "white",
            "linecolor": "white",
            "ticks": ""
           },
           "bgcolor": "#E5ECF6",
           "radialaxis": {
            "gridcolor": "white",
            "linecolor": "white",
            "ticks": ""
           }
          },
          "scene": {
           "xaxis": {
            "backgroundcolor": "#E5ECF6",
            "gridcolor": "white",
            "gridwidth": 2,
            "linecolor": "white",
            "showbackground": true,
            "ticks": "",
            "zerolinecolor": "white"
           },
           "yaxis": {
            "backgroundcolor": "#E5ECF6",
            "gridcolor": "white",
            "gridwidth": 2,
            "linecolor": "white",
            "showbackground": true,
            "ticks": "",
            "zerolinecolor": "white"
           },
           "zaxis": {
            "backgroundcolor": "#E5ECF6",
            "gridcolor": "white",
            "gridwidth": 2,
            "linecolor": "white",
            "showbackground": true,
            "ticks": "",
            "zerolinecolor": "white"
           }
          },
          "shapedefaults": {
           "line": {
            "color": "#2a3f5f"
           }
          },
          "ternary": {
           "aaxis": {
            "gridcolor": "white",
            "linecolor": "white",
            "ticks": ""
           },
           "baxis": {
            "gridcolor": "white",
            "linecolor": "white",
            "ticks": ""
           },
           "bgcolor": "#E5ECF6",
           "caxis": {
            "gridcolor": "white",
            "linecolor": "white",
            "ticks": ""
           }
          },
          "title": {
           "x": 0.05
          },
          "xaxis": {
           "automargin": true,
           "gridcolor": "white",
           "linecolor": "white",
           "ticks": "",
           "title": {
            "standoff": 15
           },
           "zerolinecolor": "white",
           "zerolinewidth": 2
          },
          "yaxis": {
           "automargin": true,
           "gridcolor": "white",
           "linecolor": "white",
           "ticks": "",
           "title": {
            "standoff": 15
           },
           "zerolinecolor": "white",
           "zerolinewidth": 2
          }
         }
        },
        "title": {
         "text": "Employment and employment approximation"
        },
        "width": 800
       }
      }
     },
     "metadata": {},
     "output_type": "display_data"
    }
   ],
   "source": [
    "fig = go.Figure()\n",
    "fig.add_trace(\n",
    "    go.Bar(\n",
    "        y = employment,\n",
    "        name = 'employment'\n",
    "    )\n",
    ")\n",
    "fig.add_trace(\n",
    "    go.Bar(\n",
    "        y = employment_ps,\n",
    "        name = 'employment ps'\n",
    "    )\n",
    ")\n",
    "fig.update_layout(\n",
    "    title='Employment and employment approximation',\n",
    "    width=800,\n",
    "    height=450,\n",
    "    legend=dict(\n",
    "                y=0.99,\n",
    "                x=0.01\n",
    "                )\n",
    ")"
   ]
  },
  {
   "cell_type": "code",
   "execution_count": 8,
   "metadata": {},
   "outputs": [
    {
     "data": {
      "application/vnd.plotly.v1+json": {
       "config": {
        "plotlyServerURL": "https://plot.ly"
       },
       "data": [
        {
         "name": "wages",
         "type": "bar",
         "y": [
          0,
          0,
          0,
          5804030,
          10083092,
          0,
          9508668,
          1079078,
          400983,
          1485148,
          279793,
          0,
          0,
          0,
          683429,
          5824644,
          1057960,
          3722327,
          1286572,
          142041
         ]
        },
        {
         "name": "wages ps",
         "type": "bar",
         "y": [
          1471543.510638298,
          86561.3829787234,
          173122.7659574468,
          5804030,
          10083092,
          1125297.9787234042,
          9508668,
          1079078,
          400983,
          1485148,
          279793,
          2856525.6382978726,
          173122.7659574468,
          2250595.9574468085,
          683429,
          5824644,
          1057960,
          3722327,
          1286572,
          142041
         ]
        }
       ],
       "layout": {
        "height": 450,
        "legend": {
         "x": 0.01,
         "y": 0.99
        },
        "template": {
         "data": {
          "bar": [
           {
            "error_x": {
             "color": "#2a3f5f"
            },
            "error_y": {
             "color": "#2a3f5f"
            },
            "marker": {
             "line": {
              "color": "#E5ECF6",
              "width": 0.5
             },
             "pattern": {
              "fillmode": "overlay",
              "size": 10,
              "solidity": 0.2
             }
            },
            "type": "bar"
           }
          ],
          "barpolar": [
           {
            "marker": {
             "line": {
              "color": "#E5ECF6",
              "width": 0.5
             },
             "pattern": {
              "fillmode": "overlay",
              "size": 10,
              "solidity": 0.2
             }
            },
            "type": "barpolar"
           }
          ],
          "carpet": [
           {
            "aaxis": {
             "endlinecolor": "#2a3f5f",
             "gridcolor": "white",
             "linecolor": "white",
             "minorgridcolor": "white",
             "startlinecolor": "#2a3f5f"
            },
            "baxis": {
             "endlinecolor": "#2a3f5f",
             "gridcolor": "white",
             "linecolor": "white",
             "minorgridcolor": "white",
             "startlinecolor": "#2a3f5f"
            },
            "type": "carpet"
           }
          ],
          "choropleth": [
           {
            "colorbar": {
             "outlinewidth": 0,
             "ticks": ""
            },
            "type": "choropleth"
           }
          ],
          "contour": [
           {
            "colorbar": {
             "outlinewidth": 0,
             "ticks": ""
            },
            "colorscale": [
             [
              0,
              "#0d0887"
             ],
             [
              0.1111111111111111,
              "#46039f"
             ],
             [
              0.2222222222222222,
              "#7201a8"
             ],
             [
              0.3333333333333333,
              "#9c179e"
             ],
             [
              0.4444444444444444,
              "#bd3786"
             ],
             [
              0.5555555555555556,
              "#d8576b"
             ],
             [
              0.6666666666666666,
              "#ed7953"
             ],
             [
              0.7777777777777778,
              "#fb9f3a"
             ],
             [
              0.8888888888888888,
              "#fdca26"
             ],
             [
              1,
              "#f0f921"
             ]
            ],
            "type": "contour"
           }
          ],
          "contourcarpet": [
           {
            "colorbar": {
             "outlinewidth": 0,
             "ticks": ""
            },
            "type": "contourcarpet"
           }
          ],
          "heatmap": [
           {
            "colorbar": {
             "outlinewidth": 0,
             "ticks": ""
            },
            "colorscale": [
             [
              0,
              "#0d0887"
             ],
             [
              0.1111111111111111,
              "#46039f"
             ],
             [
              0.2222222222222222,
              "#7201a8"
             ],
             [
              0.3333333333333333,
              "#9c179e"
             ],
             [
              0.4444444444444444,
              "#bd3786"
             ],
             [
              0.5555555555555556,
              "#d8576b"
             ],
             [
              0.6666666666666666,
              "#ed7953"
             ],
             [
              0.7777777777777778,
              "#fb9f3a"
             ],
             [
              0.8888888888888888,
              "#fdca26"
             ],
             [
              1,
              "#f0f921"
             ]
            ],
            "type": "heatmap"
           }
          ],
          "heatmapgl": [
           {
            "colorbar": {
             "outlinewidth": 0,
             "ticks": ""
            },
            "colorscale": [
             [
              0,
              "#0d0887"
             ],
             [
              0.1111111111111111,
              "#46039f"
             ],
             [
              0.2222222222222222,
              "#7201a8"
             ],
             [
              0.3333333333333333,
              "#9c179e"
             ],
             [
              0.4444444444444444,
              "#bd3786"
             ],
             [
              0.5555555555555556,
              "#d8576b"
             ],
             [
              0.6666666666666666,
              "#ed7953"
             ],
             [
              0.7777777777777778,
              "#fb9f3a"
             ],
             [
              0.8888888888888888,
              "#fdca26"
             ],
             [
              1,
              "#f0f921"
             ]
            ],
            "type": "heatmapgl"
           }
          ],
          "histogram": [
           {
            "marker": {
             "pattern": {
              "fillmode": "overlay",
              "size": 10,
              "solidity": 0.2
             }
            },
            "type": "histogram"
           }
          ],
          "histogram2d": [
           {
            "colorbar": {
             "outlinewidth": 0,
             "ticks": ""
            },
            "colorscale": [
             [
              0,
              "#0d0887"
             ],
             [
              0.1111111111111111,
              "#46039f"
             ],
             [
              0.2222222222222222,
              "#7201a8"
             ],
             [
              0.3333333333333333,
              "#9c179e"
             ],
             [
              0.4444444444444444,
              "#bd3786"
             ],
             [
              0.5555555555555556,
              "#d8576b"
             ],
             [
              0.6666666666666666,
              "#ed7953"
             ],
             [
              0.7777777777777778,
              "#fb9f3a"
             ],
             [
              0.8888888888888888,
              "#fdca26"
             ],
             [
              1,
              "#f0f921"
             ]
            ],
            "type": "histogram2d"
           }
          ],
          "histogram2dcontour": [
           {
            "colorbar": {
             "outlinewidth": 0,
             "ticks": ""
            },
            "colorscale": [
             [
              0,
              "#0d0887"
             ],
             [
              0.1111111111111111,
              "#46039f"
             ],
             [
              0.2222222222222222,
              "#7201a8"
             ],
             [
              0.3333333333333333,
              "#9c179e"
             ],
             [
              0.4444444444444444,
              "#bd3786"
             ],
             [
              0.5555555555555556,
              "#d8576b"
             ],
             [
              0.6666666666666666,
              "#ed7953"
             ],
             [
              0.7777777777777778,
              "#fb9f3a"
             ],
             [
              0.8888888888888888,
              "#fdca26"
             ],
             [
              1,
              "#f0f921"
             ]
            ],
            "type": "histogram2dcontour"
           }
          ],
          "mesh3d": [
           {
            "colorbar": {
             "outlinewidth": 0,
             "ticks": ""
            },
            "type": "mesh3d"
           }
          ],
          "parcoords": [
           {
            "line": {
             "colorbar": {
              "outlinewidth": 0,
              "ticks": ""
             }
            },
            "type": "parcoords"
           }
          ],
          "pie": [
           {
            "automargin": true,
            "type": "pie"
           }
          ],
          "scatter": [
           {
            "fillpattern": {
             "fillmode": "overlay",
             "size": 10,
             "solidity": 0.2
            },
            "type": "scatter"
           }
          ],
          "scatter3d": [
           {
            "line": {
             "colorbar": {
              "outlinewidth": 0,
              "ticks": ""
             }
            },
            "marker": {
             "colorbar": {
              "outlinewidth": 0,
              "ticks": ""
             }
            },
            "type": "scatter3d"
           }
          ],
          "scattercarpet": [
           {
            "marker": {
             "colorbar": {
              "outlinewidth": 0,
              "ticks": ""
             }
            },
            "type": "scattercarpet"
           }
          ],
          "scattergeo": [
           {
            "marker": {
             "colorbar": {
              "outlinewidth": 0,
              "ticks": ""
             }
            },
            "type": "scattergeo"
           }
          ],
          "scattergl": [
           {
            "marker": {
             "colorbar": {
              "outlinewidth": 0,
              "ticks": ""
             }
            },
            "type": "scattergl"
           }
          ],
          "scattermapbox": [
           {
            "marker": {
             "colorbar": {
              "outlinewidth": 0,
              "ticks": ""
             }
            },
            "type": "scattermapbox"
           }
          ],
          "scatterpolar": [
           {
            "marker": {
             "colorbar": {
              "outlinewidth": 0,
              "ticks": ""
             }
            },
            "type": "scatterpolar"
           }
          ],
          "scatterpolargl": [
           {
            "marker": {
             "colorbar": {
              "outlinewidth": 0,
              "ticks": ""
             }
            },
            "type": "scatterpolargl"
           }
          ],
          "scatterternary": [
           {
            "marker": {
             "colorbar": {
              "outlinewidth": 0,
              "ticks": ""
             }
            },
            "type": "scatterternary"
           }
          ],
          "surface": [
           {
            "colorbar": {
             "outlinewidth": 0,
             "ticks": ""
            },
            "colorscale": [
             [
              0,
              "#0d0887"
             ],
             [
              0.1111111111111111,
              "#46039f"
             ],
             [
              0.2222222222222222,
              "#7201a8"
             ],
             [
              0.3333333333333333,
              "#9c179e"
             ],
             [
              0.4444444444444444,
              "#bd3786"
             ],
             [
              0.5555555555555556,
              "#d8576b"
             ],
             [
              0.6666666666666666,
              "#ed7953"
             ],
             [
              0.7777777777777778,
              "#fb9f3a"
             ],
             [
              0.8888888888888888,
              "#fdca26"
             ],
             [
              1,
              "#f0f921"
             ]
            ],
            "type": "surface"
           }
          ],
          "table": [
           {
            "cells": {
             "fill": {
              "color": "#EBF0F8"
             },
             "line": {
              "color": "white"
             }
            },
            "header": {
             "fill": {
              "color": "#C8D4E3"
             },
             "line": {
              "color": "white"
             }
            },
            "type": "table"
           }
          ]
         },
         "layout": {
          "annotationdefaults": {
           "arrowcolor": "#2a3f5f",
           "arrowhead": 0,
           "arrowwidth": 1
          },
          "autotypenumbers": "strict",
          "coloraxis": {
           "colorbar": {
            "outlinewidth": 0,
            "ticks": ""
           }
          },
          "colorscale": {
           "diverging": [
            [
             0,
             "#8e0152"
            ],
            [
             0.1,
             "#c51b7d"
            ],
            [
             0.2,
             "#de77ae"
            ],
            [
             0.3,
             "#f1b6da"
            ],
            [
             0.4,
             "#fde0ef"
            ],
            [
             0.5,
             "#f7f7f7"
            ],
            [
             0.6,
             "#e6f5d0"
            ],
            [
             0.7,
             "#b8e186"
            ],
            [
             0.8,
             "#7fbc41"
            ],
            [
             0.9,
             "#4d9221"
            ],
            [
             1,
             "#276419"
            ]
           ],
           "sequential": [
            [
             0,
             "#0d0887"
            ],
            [
             0.1111111111111111,
             "#46039f"
            ],
            [
             0.2222222222222222,
             "#7201a8"
            ],
            [
             0.3333333333333333,
             "#9c179e"
            ],
            [
             0.4444444444444444,
             "#bd3786"
            ],
            [
             0.5555555555555556,
             "#d8576b"
            ],
            [
             0.6666666666666666,
             "#ed7953"
            ],
            [
             0.7777777777777778,
             "#fb9f3a"
            ],
            [
             0.8888888888888888,
             "#fdca26"
            ],
            [
             1,
             "#f0f921"
            ]
           ],
           "sequentialminus": [
            [
             0,
             "#0d0887"
            ],
            [
             0.1111111111111111,
             "#46039f"
            ],
            [
             0.2222222222222222,
             "#7201a8"
            ],
            [
             0.3333333333333333,
             "#9c179e"
            ],
            [
             0.4444444444444444,
             "#bd3786"
            ],
            [
             0.5555555555555556,
             "#d8576b"
            ],
            [
             0.6666666666666666,
             "#ed7953"
            ],
            [
             0.7777777777777778,
             "#fb9f3a"
            ],
            [
             0.8888888888888888,
             "#fdca26"
            ],
            [
             1,
             "#f0f921"
            ]
           ]
          },
          "colorway": [
           "#636efa",
           "#EF553B",
           "#00cc96",
           "#ab63fa",
           "#FFA15A",
           "#19d3f3",
           "#FF6692",
           "#B6E880",
           "#FF97FF",
           "#FECB52"
          ],
          "font": {
           "color": "#2a3f5f"
          },
          "geo": {
           "bgcolor": "white",
           "lakecolor": "white",
           "landcolor": "#E5ECF6",
           "showlakes": true,
           "showland": true,
           "subunitcolor": "white"
          },
          "hoverlabel": {
           "align": "left"
          },
          "hovermode": "closest",
          "mapbox": {
           "style": "light"
          },
          "paper_bgcolor": "white",
          "plot_bgcolor": "#E5ECF6",
          "polar": {
           "angularaxis": {
            "gridcolor": "white",
            "linecolor": "white",
            "ticks": ""
           },
           "bgcolor": "#E5ECF6",
           "radialaxis": {
            "gridcolor": "white",
            "linecolor": "white",
            "ticks": ""
           }
          },
          "scene": {
           "xaxis": {
            "backgroundcolor": "#E5ECF6",
            "gridcolor": "white",
            "gridwidth": 2,
            "linecolor": "white",
            "showbackground": true,
            "ticks": "",
            "zerolinecolor": "white"
           },
           "yaxis": {
            "backgroundcolor": "#E5ECF6",
            "gridcolor": "white",
            "gridwidth": 2,
            "linecolor": "white",
            "showbackground": true,
            "ticks": "",
            "zerolinecolor": "white"
           },
           "zaxis": {
            "backgroundcolor": "#E5ECF6",
            "gridcolor": "white",
            "gridwidth": 2,
            "linecolor": "white",
            "showbackground": true,
            "ticks": "",
            "zerolinecolor": "white"
           }
          },
          "shapedefaults": {
           "line": {
            "color": "#2a3f5f"
           }
          },
          "ternary": {
           "aaxis": {
            "gridcolor": "white",
            "linecolor": "white",
            "ticks": ""
           },
           "baxis": {
            "gridcolor": "white",
            "linecolor": "white",
            "ticks": ""
           },
           "bgcolor": "#E5ECF6",
           "caxis": {
            "gridcolor": "white",
            "linecolor": "white",
            "ticks": ""
           }
          },
          "title": {
           "x": 0.05
          },
          "xaxis": {
           "automargin": true,
           "gridcolor": "white",
           "linecolor": "white",
           "ticks": "",
           "title": {
            "standoff": 15
           },
           "zerolinecolor": "white",
           "zerolinewidth": 2
          },
          "yaxis": {
           "automargin": true,
           "gridcolor": "white",
           "linecolor": "white",
           "ticks": "",
           "title": {
            "standoff": 15
           },
           "zerolinecolor": "white",
           "zerolinewidth": 2
          }
         }
        },
        "title": {
         "text": "Wages and wages approximation"
        },
        "width": 800
       }
      }
     },
     "metadata": {},
     "output_type": "display_data"
    }
   ],
   "source": [
    "fig = go.Figure()\n",
    "fig.add_trace(\n",
    "    go.Bar(\n",
    "        y = wages,\n",
    "        name = 'wages'\n",
    "    )\n",
    ")\n",
    "fig.add_trace(\n",
    "    go.Bar(\n",
    "        y = wages_ps,\n",
    "        name = 'wages ps'\n",
    "    )\n",
    ")\n",
    "fig.update_layout(\n",
    "    title='Wages and wages approximation',\n",
    "    width=800,\n",
    "    height=450,\n",
    "    legend=dict(\n",
    "                y=0.99,\n",
    "                x=0.01\n",
    "                )\n",
    ")"
   ]
  },
  {
   "cell_type": "code",
   "execution_count": 9,
   "metadata": {},
   "outputs": [],
   "source": [
    "# proportional scaling & saving the data into the same tree\n",
    "industry = fetch_branch(county, 'ind', '10')\n",
    "data = get_subindustries_data(industry)\n",
    "county = run_proportional_scaling(county, industry, data)"
   ]
  },
  {
   "cell_type": "code",
   "execution_count": 10,
   "metadata": {},
   "outputs": [],
   "source": [
    "# loop through the entire tree\n",
    "for ind in fetch_values_given_key(county, 'ind', []):\n",
    "    industry = fetch_branch(county, 'ind', ind)\n",
    "    data = get_subindustries_data(industry)\n",
    "    county = run_proportional_scaling(county, industry, data)"
   ]
  },
  {
   "cell_type": "code",
   "execution_count": 11,
   "metadata": {},
   "outputs": [
    {
     "name": "stdout",
     "output_type": "stream",
     "text": [
      "*** 10 *** \n",
      "4752\n",
      "*** 11 *** \n",
      "0\n",
      "112.67021276595744\n",
      "*** 111 *** \n",
      "0\n",
      "21.55673758865248\n",
      "*** 1119 *** \n",
      "0\n",
      "21.55673758865248\n",
      "*** 11199 *** \n",
      "0\n",
      "21.55673758865248\n",
      "*** 111998 *** \n",
      "0\n",
      "21.55673758865248\n",
      "*** 112 *** \n",
      "35\n",
      "*** 1121 *** \n",
      "0\n",
      "27.22222222222222\n",
      "*** 11211 *** \n",
      "0\n",
      "19.444444444444446\n",
      "*** 112111 *** \n",
      "0\n",
      "19.444444444444446\n",
      "*** 11212 *** \n",
      "0\n",
      "7.777777777777778\n",
      "*** 112120 *** \n",
      "0\n",
      "7.777777777777778\n",
      "*** 1129 *** \n",
      "0\n",
      "7.777777777777778\n",
      "*** 11292 *** \n",
      "0\n",
      "3.888888888888889\n",
      "*** 112920 *** \n",
      "0\n",
      "3.888888888888889\n",
      "*** 11299 *** \n",
      "0\n",
      "3.888888888888889\n",
      "*** 112990 *** \n",
      "0\n",
      "3.888888888888889\n",
      "*** 113 *** \n",
      "13\n",
      "*** 1132 *** \n",
      "0\n",
      "2.6\n",
      "*** 11321 *** \n",
      "0\n",
      "2.6\n",
      "*** 113210 *** \n",
      "0\n",
      "2.6\n",
      "*** 1133 *** \n",
      "0\n",
      "10.4\n",
      "*** 11331 *** \n",
      "0\n",
      "10.4\n",
      "*** 113310 *** \n",
      "0\n",
      "10.4\n",
      "*** 115 *** \n",
      "0\n",
      "43.11347517730496\n",
      "*** 1151 *** \n",
      "0\n",
      "21.55673758865248\n",
      "*** 11511 *** \n",
      "0\n",
      "21.55673758865248\n",
      "*** 115115 *** \n",
      "0\n",
      "21.55673758865248\n",
      "*** 1152 *** \n",
      "0\n",
      "21.55673758865248\n",
      "*** 11521 *** \n",
      "0\n",
      "21.55673758865248\n",
      "*** 115210 *** \n",
      "0\n",
      "21.55673758865248\n",
      "*** 21 *** \n",
      "0\n",
      "6.627659574468085\n",
      "*** 212 *** \n",
      "0\n",
      "6.627659574468085\n",
      "*** 2123 *** \n",
      "0\n",
      "6.627659574468085\n",
      "*** 21231 *** \n",
      "0\n",
      "6.627659574468085\n",
      "*** 212312 *** \n",
      "0\n",
      "6.627659574468085\n",
      "*** 213 *** \n",
      "0\n",
      "0.0\n",
      "*** 2131 *** \n",
      "0\n",
      "*** 21311 *** \n",
      "0\n",
      "*** 213112 *** \n",
      "0\n",
      "*** 22 *** \n",
      "0\n",
      "13.25531914893617\n",
      "*** 221 *** \n",
      "0\n",
      "13.25531914893617\n",
      "*** 2211 *** \n",
      "0\n",
      "6.627659574468085\n",
      "*** 22112 *** \n",
      "0\n",
      "6.627659574468085\n",
      "*** 221121 *** \n",
      "0\n",
      "6.627659574468085\n",
      "*** 2212 *** \n",
      "0\n",
      "6.627659574468085\n",
      "*** 22121 *** \n",
      "0\n",
      "6.627659574468085\n",
      "*** 221210 *** \n",
      "0\n",
      "6.627659574468085\n",
      "*** 23 *** \n",
      "369\n",
      "*** 236 *** \n",
      "0\n",
      "156.0\n",
      "*** 2361 *** \n",
      "70\n",
      "*** 23611 *** \n",
      "70\n",
      "*** 236115 *** \n",
      "28\n",
      "*** 236118 *** \n",
      "42\n",
      "*** 2362 *** \n",
      "0\n",
      "86.0\n",
      "*** 23621 *** \n",
      "0\n",
      "21.5\n",
      "*** 236210 *** \n",
      "0\n",
      "21.5\n",
      "*** 23622 *** \n",
      "0\n",
      "64.5\n",
      "*** 236220 *** \n",
      "0\n",
      "64.5\n",
      "*** 237 *** \n",
      "0\n",
      "26.0\n",
      "*** 2371 *** \n",
      "0\n",
      "6.5\n",
      "*** 23713 *** \n",
      "0\n",
      "6.5\n",
      "*** 237130 *** \n",
      "0\n",
      "6.5\n",
      "*** 2372 *** \n",
      "0\n",
      "6.5\n",
      "*** 23721 *** \n",
      "0\n",
      "6.5\n",
      "*** 237210 *** \n",
      "0\n",
      "6.5\n",
      "*** 2373 *** \n",
      "0\n",
      "13.0\n",
      "*** 23731 *** \n",
      "0\n",
      "13.0\n",
      "*** 237310 *** \n",
      "0\n",
      "13.0\n",
      "*** 238 *** \n",
      "187\n",
      "*** 2381 *** \n",
      "33\n",
      "*** 23811 *** \n",
      "0\n",
      "4.8\n",
      "*** 238111 *** \n",
      "0\n",
      "4.8\n",
      "*** 23812 *** \n",
      "0\n",
      "4.8\n",
      "*** 238121 *** \n",
      "0\n",
      "4.8\n",
      "*** 23813 *** \n",
      "0\n",
      "4.8\n",
      "*** 238131 *** \n",
      "0\n",
      "4.8\n",
      "*** 23814 *** \n",
      "9\n",
      "*** 238141 *** \n",
      "0\n",
      "3.0\n",
      "*** 238142 *** \n",
      "0\n",
      "6.0\n",
      "*** 23815 *** \n",
      "0\n",
      "4.8\n",
      "*** 238152 *** \n",
      "0\n",
      "4.8\n",
      "*** 23816 *** \n",
      "0\n",
      "4.8\n",
      "*** 238162 *** \n",
      "0\n",
      "4.8\n",
      "*** 2382 *** \n",
      "38\n",
      "*** 23821 *** \n",
      "0\n",
      "23.75\n",
      "*** 238211 *** \n",
      "0\n",
      "23.75\n",
      "*** 23822 *** \n",
      "0\n",
      "14.25\n",
      "*** 238221 *** \n",
      "0\n",
      "9.5\n",
      "*** 238222 *** \n",
      "0\n",
      "4.75\n",
      "*** 2383 *** \n",
      "20\n",
      "*** 23831 *** \n",
      "0\n",
      "2.3333333333333335\n",
      "*** 238311 *** \n",
      "0\n",
      "2.3333333333333335\n",
      "*** 23832 *** \n",
      "13\n",
      "*** 238321 *** \n",
      "0\n",
      "11.375\n",
      "*** 238322 *** \n",
      "0\n",
      "1.625\n",
      "*** 23835 *** \n",
      "0\n",
      "4.666666666666667\n",
      "*** 238351 *** \n",
      "0\n",
      "4.666666666666667\n",
      "*** 2389 *** \n",
      "96\n",
      "*** 23891 *** \n",
      "83\n",
      "*** 238911 *** \n",
      "19\n",
      "*** 238912 *** \n",
      "64\n",
      "*** 23899 *** \n",
      "13\n",
      "*** 238991 *** \n",
      "13\n",
      "*** 31-33 *** \n",
      "897\n",
      "*** 311 *** \n",
      "0\n",
      "108.66666666666667\n",
      "*** 3116 *** \n",
      "0\n",
      "54.333333333333336\n",
      "*** 31161 *** \n",
      "0\n",
      "54.333333333333336\n",
      "*** 311611 *** \n",
      "0\n",
      "54.333333333333336\n",
      "*** 3119 *** \n",
      "0\n",
      "54.333333333333336\n",
      "*** 31192 *** \n",
      "0\n",
      "54.333333333333336\n",
      "*** 311920 *** \n",
      "0\n",
      "54.333333333333336\n",
      "*** 312 *** \n",
      "28\n",
      "*** 3121 *** \n",
      "28\n",
      "*** 31212 *** \n",
      "0\n",
      "9.333333333333334\n",
      "*** 312120 *** \n",
      "0\n",
      "9.333333333333334\n",
      "*** 31213 *** \n",
      "0\n",
      "18.666666666666668\n",
      "*** 312130 *** \n",
      "0\n",
      "18.666666666666668\n",
      "*** 314 *** \n",
      "0\n",
      "54.333333333333336\n",
      "*** 3141 *** \n",
      "0\n",
      "54.333333333333336\n",
      "*** 31411 *** \n",
      "0\n",
      "54.333333333333336\n",
      "*** 314110 *** \n",
      "0\n",
      "54.333333333333336\n",
      "*** 321 *** \n",
      "168\n",
      "*** 3211 *** \n",
      "0\n",
      "112.0\n",
      "*** 32111 *** \n",
      "0\n",
      "112.0\n",
      "*** 321113 *** \n",
      "0\n",
      "84.0\n",
      "*** 321114 *** \n",
      "0\n",
      "28.0\n",
      "*** 3219 *** \n",
      "0\n",
      "56.0\n",
      "*** 32191 *** \n",
      "0\n",
      "28.0\n",
      "*** 321912 *** \n",
      "0\n",
      "28.0\n",
      "*** 32199 *** \n",
      "0\n",
      "28.0\n",
      "*** 321999 *** \n",
      "0\n",
      "28.0\n",
      "*** 323 *** \n",
      "0\n",
      "108.66666666666667\n",
      "*** 3231 *** \n",
      "0\n",
      "108.66666666666667\n",
      "*** 32311 *** \n",
      "0\n",
      "108.66666666666667\n",
      "*** 323111 *** \n",
      "0\n",
      "54.333333333333336\n",
      "*** 323113 *** \n",
      "0\n",
      "54.333333333333336\n",
      "*** 326 *** \n",
      "0\n",
      "54.333333333333336\n",
      "*** 3261 *** \n",
      "0\n",
      "54.333333333333336\n",
      "*** 32614 *** \n",
      "0\n",
      "54.333333333333336\n",
      "*** 326140 *** \n",
      "0\n",
      "54.333333333333336\n",
      "*** 332 *** \n",
      "49\n",
      "*** 3323 *** \n",
      "0\n",
      "24.5\n",
      "*** 33231 *** \n",
      "0\n",
      "12.25\n",
      "*** 332312 *** \n",
      "0\n",
      "12.25\n",
      "*** 33232 *** \n",
      "0\n",
      "12.25\n",
      "*** 332322 *** \n",
      "0\n",
      "12.25\n",
      "*** 3324 *** \n",
      "0\n",
      "12.25\n",
      "*** 33241 *** \n",
      "0\n",
      "12.25\n",
      "*** 332410 *** \n",
      "0\n",
      "12.25\n",
      "*** 3327 *** \n",
      "0\n",
      "12.25\n",
      "*** 33271 *** \n",
      "0\n",
      "12.25\n",
      "*** 332710 *** \n",
      "0\n",
      "12.25\n",
      "*** 333 *** \n",
      "0\n",
      "108.66666666666667\n",
      "*** 3336 *** \n",
      "0\n",
      "108.66666666666667\n",
      "*** 33361 *** \n",
      "0\n",
      "108.66666666666667\n",
      "*** 333618 *** \n",
      "0\n",
      "108.66666666666667\n",
      "*** 335 *** \n",
      "0\n",
      "54.333333333333336\n",
      "*** 3359 *** \n",
      "0\n",
      "54.333333333333336\n",
      "*** 33592 *** \n",
      "0\n",
      "54.333333333333336\n",
      "*** 335921 *** \n",
      "0\n",
      "54.333333333333336\n",
      "*** 337 *** \n",
      "0\n",
      "108.66666666666667\n",
      "*** 3371 *** \n",
      "0\n",
      "54.333333333333336\n",
      "*** 33711 *** \n",
      "0\n",
      "54.333333333333336\n",
      "*** 337110 *** \n",
      "0\n",
      "54.333333333333336\n",
      "*** 3372 *** \n",
      "0\n",
      "54.333333333333336\n",
      "*** 33721 *** \n",
      "0\n",
      "54.333333333333336\n",
      "*** 337212 *** \n",
      "0\n",
      "54.333333333333336\n",
      "*** 339 *** \n",
      "0\n",
      "54.333333333333336\n",
      "*** 3399 *** \n",
      "0\n",
      "54.333333333333336\n",
      "*** 33999 *** \n",
      "0\n",
      "54.333333333333336\n",
      "*** 339999 *** \n",
      "0\n",
      "54.333333333333336\n",
      "*** 42 *** \n",
      "0\n",
      "86.15957446808511\n",
      "*** 423 *** \n",
      "25\n",
      "*** 4231 *** \n",
      "0\n",
      "7.142857142857143\n",
      "*** 42312 *** \n",
      "0\n",
      "3.5714285714285716\n",
      "*** 423120 *** \n",
      "0\n",
      "3.5714285714285716\n",
      "*** 42314 *** \n",
      "0\n",
      "3.5714285714285716\n",
      "*** 423140 *** \n",
      "0\n",
      "3.5714285714285716\n",
      "*** 4233 *** \n",
      "0\n",
      "3.5714285714285716\n",
      "*** 42332 *** \n",
      "0\n",
      "3.5714285714285716\n",
      "*** 423320 *** \n",
      "0\n",
      "3.5714285714285716\n",
      "*** 4234 *** \n",
      "0\n",
      "3.5714285714285716\n",
      "*** 42345 *** \n",
      "0\n",
      "3.5714285714285716\n",
      "*** 423450 *** \n",
      "0\n",
      "3.5714285714285716\n",
      "*** 4235 *** \n",
      "0\n",
      "3.5714285714285716\n",
      "*** 42351 *** \n",
      "0\n",
      "3.5714285714285716\n",
      "*** 423510 *** \n",
      "0\n",
      "3.5714285714285716\n",
      "*** 4239 *** \n",
      "0\n",
      "7.142857142857143\n",
      "*** 42394 *** \n",
      "0\n",
      "3.5714285714285716\n",
      "*** 423940 *** \n",
      "0\n",
      "3.5714285714285716\n",
      "*** 42399 *** \n",
      "0\n",
      "3.5714285714285716\n",
      "*** 423990 *** \n",
      "0\n",
      "3.5714285714285716\n",
      "*** 424 *** \n",
      "21\n",
      "*** 4244 *** \n",
      "0\n",
      "7.0\n",
      "*** 42449 *** \n",
      "0\n",
      "7.0\n",
      "*** 424490 *** \n",
      "0\n",
      "7.0\n",
      "*** 4249 *** \n",
      "0\n",
      "14.0\n",
      "*** 42491 *** \n",
      "0\n",
      "7.0\n",
      "*** 424910 *** \n",
      "0\n",
      "7.0\n",
      "*** 42493 *** \n",
      "0\n",
      "7.0\n",
      "*** 424930 *** \n",
      "0\n",
      "7.0\n",
      "*** 425 *** \n",
      "0\n",
      "40.15957446808511\n",
      "*** 4251 *** \n",
      "0\n",
      "40.15957446808511\n",
      "*** 42512 *** \n",
      "0\n",
      "40.15957446808511\n",
      "*** 425120 *** \n",
      "0\n",
      "40.15957446808511\n",
      "*** 44-45 *** \n",
      "1196\n",
      "*** 441 *** \n",
      "34\n",
      "*** 4411 *** \n",
      "0\n",
      "7.333333333333333\n",
      "*** 44112 *** \n",
      "0\n",
      "7.333333333333333\n",
      "*** 441120 *** \n",
      "0\n",
      "7.333333333333333\n",
      "*** 4412 *** \n",
      "0\n",
      "3.6666666666666665\n",
      "*** 44122 *** \n",
      "0\n",
      "3.6666666666666665\n",
      "*** 441228 *** \n",
      "0\n",
      "3.6666666666666665\n",
      "*** 4413 *** \n",
      "23\n",
      "*** 44131 *** \n",
      "0\n",
      "17.25\n",
      "*** 441310 *** \n",
      "0\n",
      "17.25\n",
      "*** 44132 *** \n",
      "0\n",
      "5.75\n",
      "*** 441320 *** \n",
      "0\n",
      "5.75\n",
      "*** 442 *** \n",
      "0\n",
      "56.46153846153846\n",
      "*** 4422 *** \n",
      "0\n",
      "56.46153846153846\n",
      "*** 44221 *** \n",
      "0\n",
      "28.23076923076923\n",
      "*** 442210 *** \n",
      "0\n",
      "28.23076923076923\n",
      "*** 44229 *** \n",
      "0\n",
      "28.23076923076923\n",
      "*** 442299 *** \n",
      "0\n",
      "28.23076923076923\n",
      "*** 443 *** \n",
      "0\n",
      "56.46153846153846\n",
      "*** 4431 *** \n",
      "0\n",
      "56.46153846153846\n",
      "*** 44314 *** \n",
      "0\n",
      "56.46153846153846\n",
      "*** 443142 *** \n",
      "0\n",
      "56.46153846153846\n",
      "*** 444 *** \n",
      "169\n",
      "*** 4441 *** \n",
      "0\n",
      "140.83333333333334\n",
      "*** 44411 *** \n",
      "0\n",
      "56.333333333333336\n",
      "*** 444110 *** \n",
      "0\n",
      "56.333333333333336\n",
      "*** 44412 *** \n",
      "0\n",
      "28.166666666666668\n",
      "*** 444120 *** \n",
      "0\n",
      "28.166666666666668\n",
      "*** 44413 *** \n",
      "0\n",
      "28.166666666666668\n",
      "*** 444130 *** \n",
      "0\n",
      "28.166666666666668\n",
      "*** 44419 *** \n",
      "0\n",
      "28.166666666666668\n",
      "*** 444190 *** \n",
      "0\n",
      "28.166666666666668\n",
      "*** 4442 *** \n",
      "0\n",
      "28.166666666666668\n",
      "*** 44422 *** \n",
      "0\n",
      "28.166666666666668\n",
      "*** 444220 *** \n",
      "0\n",
      "28.166666666666668\n",
      "*** 445 *** \n",
      "114\n",
      "*** 4451 *** \n",
      "105\n",
      "*** 44511 *** \n",
      "0\n",
      "28.636363636363637\n",
      "*** 445110 *** \n",
      "0\n",
      "28.636363636363637\n",
      "*** 44512 *** \n",
      "0\n",
      "76.36363636363636\n",
      "*** 445120 *** \n",
      "0\n",
      "76.36363636363636\n",
      "*** 4452 *** \n",
      "9\n",
      "*** 44521 *** \n",
      "0\n",
      "6.0\n",
      "*** 445210 *** \n",
      "0\n",
      "6.0\n",
      "*** 44529 *** \n",
      "0\n",
      "3.0\n",
      "*** 445299 *** \n",
      "0\n",
      "3.0\n",
      "*** 446 *** \n",
      "0\n",
      "28.23076923076923\n",
      "*** 4461 *** \n",
      "0\n",
      "28.23076923076923\n",
      "*** 44619 *** \n",
      "0\n",
      "28.23076923076923\n",
      "*** 446191 *** \n",
      "0\n",
      "28.23076923076923\n",
      "*** 447 *** \n",
      "479\n",
      "*** 4471 *** \n",
      "479\n",
      "*** 44711 *** \n",
      "0\n",
      "442.15384615384613\n",
      "*** 447110 *** \n",
      "0\n",
      "442.15384615384613\n",
      "*** 44719 *** \n",
      "0\n",
      "36.84615384615385\n",
      "*** 447190 *** \n",
      "0\n",
      "36.84615384615385\n",
      "*** 448 *** \n",
      "0\n",
      "56.46153846153846\n",
      "*** 4482 *** \n",
      "0\n",
      "28.23076923076923\n",
      "*** 44821 *** \n",
      "0\n",
      "28.23076923076923\n",
      "*** 448210 *** \n",
      "0\n",
      "28.23076923076923\n",
      "*** 4483 *** \n",
      "0\n",
      "28.23076923076923\n",
      "*** 44831 *** \n",
      "0\n",
      "28.23076923076923\n",
      "*** 448310 *** \n",
      "0\n",
      "28.23076923076923\n",
      "*** 451 *** \n",
      "0\n",
      "56.46153846153846\n",
      "*** 4511 *** \n",
      "0\n",
      "28.23076923076923\n",
      "*** 45111 *** \n",
      "0\n",
      "0.0\n",
      "*** 451110 *** \n",
      "0\n",
      "*** 45113 *** \n",
      "0\n",
      "28.23076923076923\n",
      "*** 451130 *** \n",
      "0\n",
      "28.23076923076923\n",
      "*** 4512 *** \n",
      "0\n",
      "28.23076923076923\n",
      "*** 45121 *** \n",
      "0\n",
      "28.23076923076923\n",
      "*** 451211 *** \n",
      "0\n",
      "28.23076923076923\n",
      "*** 452 *** \n",
      "0\n",
      "112.92307692307692\n",
      "*** 4523 *** \n",
      "0\n",
      "112.92307692307692\n",
      "*** 45231 *** \n",
      "0\n",
      "112.92307692307692\n",
      "*** 452311 *** \n",
      "0\n",
      "28.23076923076923\n",
      "*** 452319 *** \n",
      "0\n",
      "84.6923076923077\n",
      "*** 453 *** \n",
      "13\n",
      "*** 4532 *** \n",
      "0\n",
      "5.2\n",
      "*** 45322 *** \n",
      "0\n",
      "5.2\n",
      "*** 453220 *** \n",
      "0\n",
      "5.2\n",
      "*** 4533 *** \n",
      "0\n",
      "2.6\n",
      "*** 45331 *** \n",
      "0\n",
      "2.6\n",
      "*** 453310 *** \n",
      "0\n",
      "2.6\n",
      "*** 4539 *** \n",
      "0\n",
      "5.2\n",
      "*** 45399 *** \n",
      "0\n",
      "5.2\n",
      "*** 453998 *** \n",
      "0\n",
      "5.2\n",
      "*** 454 *** \n",
      "20\n",
      "*** 4541 *** \n",
      "0\n",
      "10.0\n",
      "*** 45411 *** \n",
      "0\n",
      "10.0\n",
      "*** 454110 *** \n",
      "0\n",
      "10.0\n",
      "*** 4542 *** \n",
      "0\n",
      "5.0\n",
      "*** 45421 *** \n",
      "0\n",
      "5.0\n",
      "*** 454210 *** \n",
      "0\n",
      "5.0\n",
      "*** 4543 *** \n",
      "0\n",
      "5.0\n",
      "*** 45431 *** \n",
      "0\n",
      "5.0\n",
      "*** 454310 *** \n",
      "0\n",
      "5.0\n",
      "*** 45439 *** \n",
      "0\n",
      "0.0\n",
      "*** 454390 *** \n",
      "0\n",
      "*** 48-49 *** \n",
      "77\n",
      "*** 484 *** \n",
      "36\n",
      "*** 4841 *** \n",
      "0\n",
      "15.0\n",
      "*** 48411 *** \n",
      "0\n",
      "6.0\n",
      "*** 484110 *** \n",
      "0\n",
      "6.0\n",
      "*** 48412 *** \n",
      "0\n",
      "9.0\n",
      "*** 484121 *** \n",
      "0\n",
      "6.0\n",
      "*** 484122 *** \n",
      "0\n",
      "3.0\n",
      "*** 4842 *** \n",
      "0\n",
      "21.0\n",
      "*** 48421 *** \n",
      "0\n",
      "-5.0\n",
      "*** 484210 *** \n",
      "0\n",
      "-5.0\n",
      "*** 48422 *** \n",
      "31\n",
      "*** 484220 *** \n",
      "31\n",
      "*** 48423 *** \n",
      "0\n",
      "-5.0\n",
      "*** 484230 *** \n",
      "0\n",
      "-5.0\n",
      "*** 486 *** \n",
      "0\n",
      "8.2\n",
      "*** 4862 *** \n",
      "0\n",
      "8.2\n",
      "*** 48621 *** \n",
      "0\n",
      "8.2\n",
      "*** 486210 *** \n",
      "0\n",
      "8.2\n",
      "*** 487 *** \n",
      "0\n",
      "8.2\n",
      "*** 4871 *** \n",
      "0\n",
      "8.2\n",
      "*** 48711 *** \n",
      "0\n",
      "8.2\n",
      "*** 487110 *** \n",
      "0\n",
      "8.2\n",
      "*** 488 *** \n",
      "0\n",
      "8.2\n",
      "*** 4884 *** \n",
      "0\n",
      "8.2\n",
      "*** 48841 *** \n",
      "0\n",
      "8.2\n",
      "*** 488410 *** \n",
      "0\n",
      "8.2\n",
      "*** 492 *** \n",
      "0\n",
      "8.2\n",
      "*** 4922 *** \n",
      "0\n",
      "8.2\n",
      "*** 49221 *** \n",
      "0\n",
      "8.2\n",
      "*** 492210 *** \n",
      "0\n",
      "8.2\n",
      "*** 493 *** \n",
      "0\n",
      "8.2\n",
      "*** 4931 *** \n",
      "0\n",
      "8.2\n",
      "*** 49319 *** \n",
      "0\n",
      "8.2\n",
      "*** 493190 *** \n",
      "0\n",
      "8.2\n",
      "*** 51 *** \n",
      "29\n",
      "*** 511 *** \n",
      "0\n",
      "2.8\n",
      "*** 5112 *** \n",
      "0\n",
      "2.8\n",
      "*** 51121 *** \n",
      "0\n",
      "2.8\n",
      "*** 511210 *** \n",
      "0\n",
      "2.8\n",
      "*** 512 *** \n",
      "0\n",
      "5.6\n",
      "*** 5121 *** \n",
      "0\n",
      "5.6\n",
      "*** 51213 *** \n",
      "0\n",
      "5.6\n",
      "*** 512131 *** \n",
      "0\n",
      "2.8\n",
      "*** 512132 *** \n",
      "0\n",
      "2.8\n",
      "*** 517 *** \n",
      "15\n",
      "*** 5173 *** \n",
      "15\n",
      "*** 51731 *** \n",
      "15\n",
      "*** 517311 *** \n",
      "15\n",
      "*** 519 *** \n",
      "0\n",
      "5.6\n",
      "*** 5191 *** \n",
      "0\n",
      "5.6\n",
      "*** 51913 *** \n",
      "0\n",
      "5.6\n",
      "*** 519130 *** \n",
      "0\n",
      "5.6\n",
      "*** 52 *** \n",
      "106\n",
      "*** 522 *** \n",
      "89\n",
      "*** 5221 *** \n",
      "0\n",
      "72.81818181818181\n",
      "*** 52211 *** \n",
      "74\n",
      "*** 522110 *** \n",
      "74\n",
      "*** 52213 *** \n",
      "0\n",
      "-1.181818181818187\n",
      "*** 522130 *** \n",
      "0\n",
      "-1.181818181818187\n",
      "*** 5222 *** \n",
      "0\n",
      "16.181818181818183\n",
      "*** 52229 *** \n",
      "0\n",
      "16.181818181818183\n",
      "*** 522291 *** \n",
      "0\n",
      "8.090909090909092\n",
      "*** 522292 *** \n",
      "0\n",
      "8.090909090909092\n",
      "*** 523 *** \n",
      "0\n",
      "9.714285714285714\n",
      "*** 5231 *** \n",
      "0\n",
      "7.285714285714285\n",
      "*** 52312 *** \n",
      "0\n",
      "7.285714285714285\n",
      "*** 523120 *** \n",
      "0\n",
      "7.285714285714285\n",
      "*** 5239 *** \n",
      "0\n",
      "2.4285714285714284\n",
      "*** 52393 *** \n",
      "0\n",
      "2.4285714285714284\n",
      "*** 523930 *** \n",
      "0\n",
      "2.4285714285714284\n",
      "*** 524 *** \n",
      "0\n",
      "7.285714285714286\n",
      "*** 5241 *** \n",
      "0\n",
      "2.4285714285714284\n",
      "*** 52412 *** \n",
      "0\n",
      "2.4285714285714284\n",
      "*** 524126 *** \n",
      "0\n",
      "2.4285714285714284\n",
      "*** 5242 *** \n",
      "0\n",
      "4.857142857142857\n",
      "*** 52421 *** \n",
      "0\n",
      "2.4285714285714284\n",
      "*** 524210 *** \n",
      "0\n",
      "2.4285714285714284\n",
      "*** 52429 *** \n",
      "0\n",
      "2.4285714285714284\n",
      "*** 524291 *** \n",
      "0\n",
      "2.4285714285714284\n",
      "*** 53 *** \n",
      "18\n",
      "*** 531 *** \n",
      "9\n",
      "*** 5312 *** \n",
      "0\n",
      "4.5\n",
      "*** 53121 *** \n",
      "0\n",
      "4.5\n",
      "*** 531210 *** \n",
      "0\n",
      "4.5\n",
      "*** 5313 *** \n",
      "0\n",
      "4.5\n",
      "*** 53131 *** \n",
      "0\n",
      "1.5\n",
      "*** 531312 *** \n",
      "0\n",
      "1.5\n",
      "*** 53132 *** \n",
      "0\n",
      "1.5\n",
      "*** 531320 *** \n",
      "0\n",
      "1.5\n",
      "*** 53139 *** \n",
      "0\n",
      "1.5\n",
      "*** 531390 *** \n",
      "0\n",
      "1.5\n",
      "*** 532 *** \n",
      "9\n",
      "*** 5321 *** \n",
      "0\n",
      "6.0\n",
      "*** 53211 *** \n",
      "0\n",
      "3.0\n",
      "*** 532111 *** \n",
      "0\n",
      "3.0\n",
      "*** 53212 *** \n",
      "0\n",
      "3.0\n",
      "*** 532120 *** \n",
      "0\n",
      "3.0\n",
      "*** 5322 *** \n",
      "0\n",
      "3.0\n",
      "*** 53228 *** \n",
      "0\n",
      "3.0\n",
      "*** 532284 *** \n",
      "0\n",
      "3.0\n",
      "*** 54 *** \n",
      "0\n",
      "218.7127659574468\n",
      "*** 541 *** \n",
      "0\n",
      "218.7127659574468\n",
      "*** 5411 *** \n",
      "11\n",
      "*** 54111 *** \n",
      "11\n",
      "*** 541110 *** \n",
      "11\n",
      "*** 5412 *** \n",
      "17\n",
      "*** 54121 *** \n",
      "17\n",
      "*** 541211 *** \n",
      "0\n",
      "5.666666666666667\n",
      "*** 541214 *** \n",
      "0\n",
      "5.666666666666667\n",
      "*** 541219 *** \n",
      "0\n",
      "5.666666666666667\n",
      "*** 5413 *** \n",
      "0\n",
      "30.904255319148934\n",
      "*** 54132 *** \n",
      "0\n",
      "7.7260638297872335\n",
      "*** 541320 *** \n",
      "0\n",
      "7.7260638297872335\n",
      "*** 54133 *** \n",
      "0\n",
      "15.452127659574467\n",
      "*** 541330 *** \n",
      "0\n",
      "15.452127659574467\n",
      "*** 54135 *** \n",
      "0\n",
      "7.7260638297872335\n",
      "*** 541350 *** \n",
      "0\n",
      "7.7260638297872335\n",
      "*** 5414 *** \n",
      "0\n",
      "7.7260638297872335\n",
      "*** 54143 *** \n",
      "0\n",
      "7.7260638297872335\n",
      "*** 541430 *** \n",
      "0\n",
      "7.7260638297872335\n",
      "*** 5415 *** \n",
      "0\n",
      "30.904255319148934\n",
      "*** 54151 *** \n",
      "0\n",
      "30.904255319148934\n",
      "*** 541511 *** \n",
      "0\n",
      "7.7260638297872335\n",
      "*** 541512 *** \n",
      "0\n",
      "15.452127659574467\n",
      "*** 541519 *** \n",
      "0\n",
      "7.7260638297872335\n",
      "*** 5416 *** \n",
      "23\n",
      "*** 54161 *** \n",
      "0\n",
      "20.125\n",
      "*** 541611 *** \n",
      "0\n",
      "8.625\n",
      "*** 541613 *** \n",
      "0\n",
      "2.875\n",
      "*** 541614 *** \n",
      "0\n",
      "2.875\n",
      "*** 541618 *** \n",
      "0\n",
      "5.75\n",
      "*** 54169 *** \n",
      "0\n",
      "2.875\n",
      "*** 541690 *** \n",
      "0\n",
      "2.875\n",
      "*** 5417 *** \n",
      "0\n",
      "23.178191489361705\n",
      "*** 54171 *** \n",
      "0\n",
      "23.178191489361705\n",
      "*** 541715 *** \n",
      "0\n",
      "23.178191489361705\n",
      "*** 5419 *** \n",
      "75\n",
      "*** 54194 *** \n",
      "0\n",
      "62.5\n",
      "*** 541940 *** \n",
      "0\n",
      "62.5\n",
      "*** 54199 *** \n",
      "0\n",
      "12.5\n",
      "*** 541990 *** \n",
      "0\n",
      "12.5\n",
      "*** 55 *** \n",
      "0\n",
      "13.25531914893617\n",
      "*** 551 *** \n",
      "0\n",
      "13.25531914893617\n",
      "*** 5511 *** \n",
      "0\n",
      "13.25531914893617\n",
      "*** 55111 *** \n",
      "0\n",
      "13.25531914893617\n",
      "*** 551114 *** \n",
      "0\n",
      "13.25531914893617\n",
      "*** 56 *** \n",
      "0\n",
      "172.31914893617022\n",
      "*** 561 *** \n",
      "0\n",
      "165.69148936170217\n",
      "*** 5611 *** \n",
      "0\n",
      "23.264775413711593\n",
      "*** 56111 *** \n",
      "0\n",
      "23.264775413711593\n",
      "*** 561110 *** \n",
      "0\n",
      "23.264775413711593\n",
      "*** 5612 *** \n",
      "0\n",
      "11.632387706855797\n",
      "*** 56121 *** \n",
      "0\n",
      "11.632387706855797\n",
      "*** 561210 *** \n",
      "0\n",
      "11.632387706855797\n",
      "*** 5613 *** \n",
      "0\n",
      "23.264775413711593\n",
      "*** 56132 *** \n",
      "0\n",
      "23.264775413711593\n",
      "*** 561320 *** \n",
      "0\n",
      "23.264775413711593\n",
      "*** 5614 *** \n",
      "0\n",
      "23.264775413711593\n",
      "*** 56143 *** \n",
      "0\n",
      "11.632387706855797\n",
      "*** 561431 *** \n",
      "0\n",
      "11.632387706855797\n",
      "*** 56149 *** \n",
      "0\n",
      "11.632387706855797\n",
      "*** 561499 *** \n",
      "0\n",
      "11.632387706855797\n",
      "*** 5617 *** \n",
      "61\n",
      "*** 56172 *** \n",
      "30\n",
      "*** 561720 *** \n",
      "30\n",
      "*** 56173 *** \n",
      "31\n",
      "*** 561730 *** \n",
      "31\n",
      "*** 5619 *** \n",
      "0\n",
      "23.264775413711593\n",
      "*** 56199 *** \n",
      "0\n",
      "23.264775413711593\n",
      "*** 561990 *** \n",
      "0\n",
      "23.264775413711593\n",
      "*** 562 *** \n",
      "0\n",
      "6.627659574468085\n",
      "*** 5621 *** \n",
      "0\n",
      "6.627659574468085\n",
      "*** 56211 *** \n",
      "0\n",
      "6.627659574468085\n",
      "*** 562111 *** \n",
      "0\n",
      "6.627659574468085\n",
      "*** 61 *** \n",
      "69\n",
      "*** 611 *** \n",
      "69\n",
      "*** 6111 *** \n",
      "0\n",
      "41.4\n",
      "*** 61111 *** \n",
      "0\n",
      "41.4\n",
      "*** 611110 *** \n",
      "0\n",
      "41.4\n",
      "*** 6115 *** \n",
      "0\n",
      "13.8\n",
      "*** 61151 *** \n",
      "0\n",
      "13.8\n",
      "*** 611519 *** \n",
      "0\n",
      "13.8\n",
      "*** 6116 *** \n",
      "0\n",
      "13.8\n",
      "*** 61169 *** \n",
      "0\n",
      "13.8\n",
      "*** 611699 *** \n",
      "0\n",
      "13.8\n",
      "*** 62 *** \n",
      "507\n",
      "*** 621 *** \n",
      "216\n",
      "*** 6211 *** \n",
      "50\n",
      "*** 62111 *** \n",
      "50\n",
      "*** 621111 *** \n",
      "50\n",
      "*** 6212 *** \n",
      "0\n",
      "35.5\n",
      "*** 62121 *** \n",
      "0\n",
      "35.5\n",
      "*** 621210 *** \n",
      "0\n",
      "35.5\n",
      "*** 6213 *** \n",
      "24\n",
      "*** 62131 *** \n",
      "0\n",
      "4.8\n",
      "*** 621310 *** \n",
      "0\n",
      "4.8\n",
      "*** 62132 *** \n",
      "0\n",
      "9.6\n",
      "*** 621320 *** \n",
      "0\n",
      "9.6\n",
      "*** 62134 *** \n",
      "0\n",
      "9.6\n",
      "*** 621340 *** \n",
      "0\n",
      "9.6\n",
      "*** 6214 *** \n",
      "0\n",
      "35.5\n",
      "*** 62149 *** \n",
      "0\n",
      "35.5\n",
      "*** 621492 *** \n",
      "0\n",
      "17.75\n",
      "*** 621498 *** \n",
      "0\n",
      "17.75\n",
      "*** 6215 *** \n",
      "0\n",
      "17.75\n",
      "*** 62151 *** \n",
      "0\n",
      "17.75\n",
      "*** 621511 *** \n",
      "0\n",
      "17.75\n",
      "*** 6216 *** \n",
      "0\n",
      "35.5\n",
      "*** 62161 *** \n",
      "0\n",
      "35.5\n",
      "*** 621610 *** \n",
      "0\n",
      "35.5\n",
      "*** 6219 *** \n",
      "0\n",
      "17.75\n",
      "*** 62191 *** \n",
      "0\n",
      "17.75\n",
      "*** 621910 *** \n",
      "0\n",
      "17.75\n",
      "*** 623 *** \n",
      "219\n",
      "*** 6231 *** \n",
      "0\n",
      "43.8\n",
      "*** 62311 *** \n",
      "0\n",
      "43.8\n",
      "*** 623110 *** \n",
      "0\n",
      "43.8\n",
      "*** 6232 *** \n",
      "0\n",
      "43.8\n",
      "*** 62321 *** \n",
      "0\n",
      "43.8\n",
      "*** 623210 *** \n",
      "0\n",
      "43.8\n",
      "*** 6233 *** \n",
      "0\n",
      "131.4\n",
      "*** 62331 *** \n",
      "0\n",
      "131.4\n",
      "*** 623311 *** \n",
      "0\n",
      "43.800000000000004\n",
      "*** 623312 *** \n",
      "0\n",
      "87.60000000000001\n",
      "*** 624 *** \n",
      "72\n",
      "*** 6241 *** \n",
      "61\n",
      "*** 62411 *** \n",
      "0\n",
      "2.5\n",
      "*** 624110 *** \n",
      "0\n",
      "2.5\n",
      "*** 62412 *** \n",
      "56\n",
      "*** 624120 *** \n",
      "56\n",
      "*** 62419 *** \n",
      "0\n",
      "2.5\n",
      "*** 624190 *** \n",
      "0\n",
      "2.5\n",
      "*** 6242 *** \n",
      "0\n",
      "3.6666666666666665\n",
      "*** 62422 *** \n",
      "0\n",
      "3.6666666666666665\n",
      "*** 624229 *** \n",
      "0\n",
      "3.6666666666666665\n",
      "*** 6244 *** \n",
      "0\n",
      "7.333333333333333\n",
      "*** 62441 *** \n",
      "0\n",
      "7.333333333333333\n",
      "*** 624410 *** \n",
      "0\n",
      "7.333333333333333\n",
      "*** 71 *** \n",
      "112\n",
      "*** 711 *** \n",
      "0\n",
      "15.5\n",
      "*** 7112 *** \n",
      "0\n",
      "0.0\n",
      "*** 71121 *** \n",
      "0\n",
      "*** 711211 *** \n",
      "0\n",
      "*** 7113 *** \n",
      "0\n",
      "15.5\n",
      "*** 71131 *** \n",
      "0\n",
      "15.5\n",
      "*** 711310 *** \n",
      "0\n",
      "15.5\n",
      "*** 712 *** \n",
      "50\n",
      "*** 7121 *** \n",
      "50\n",
      "*** 71213 *** \n",
      "0\n",
      "30.0\n",
      "*** 712130 *** \n",
      "0\n",
      "30.0\n",
      "*** 71219 *** \n",
      "0\n",
      "20.0\n",
      "*** 712190 *** \n",
      "0\n",
      "20.0\n",
      "*** 713 *** \n",
      "0\n",
      "46.5\n",
      "*** 7131 *** \n",
      "0\n",
      "15.5\n",
      "*** 71311 *** \n",
      "0\n",
      "15.5\n",
      "*** 713110 *** \n",
      "0\n",
      "15.5\n",
      "*** 7139 *** \n",
      "0\n",
      "31.0\n",
      "*** 71391 *** \n",
      "0\n",
      "7.75\n",
      "*** 713910 *** \n",
      "0\n",
      "7.75\n",
      "*** 71394 *** \n",
      "0\n",
      "7.75\n",
      "*** 713940 *** \n",
      "0\n",
      "7.75\n",
      "*** 71399 *** \n",
      "0\n",
      "15.5\n",
      "*** 713990 *** \n",
      "0\n",
      "15.5\n",
      "*** 72 *** \n",
      "584\n",
      "*** 721 *** \n",
      "232\n",
      "*** 7211 *** \n",
      "0\n",
      "209.9047619047619\n",
      "*** 72111 *** \n",
      "213\n",
      "*** 721110 *** \n",
      "213\n",
      "*** 72119 *** \n",
      "0\n",
      "-3.095238095238102\n",
      "*** 721191 *** \n",
      "0\n",
      "-2.063492063492068\n",
      "*** 721199 *** \n",
      "0\n",
      "-1.031746031746034\n",
      "*** 7212 *** \n",
      "0\n",
      "22.095238095238095\n",
      "*** 72121 *** \n",
      "0\n",
      "22.095238095238095\n",
      "*** 721211 *** \n",
      "0\n",
      "11.047619047619047\n",
      "*** 721214 *** \n",
      "0\n",
      "11.047619047619047\n",
      "*** 722 *** \n",
      "352\n",
      "*** 7224 *** \n",
      "0\n",
      "14.08\n",
      "*** 72241 *** \n",
      "0\n",
      "14.08\n",
      "*** 722410 *** \n",
      "0\n",
      "14.08\n",
      "*** 7225 *** \n",
      "0\n",
      "337.92\n",
      "*** 72251 *** \n",
      "0\n",
      "337.92\n",
      "*** 722511 *** \n",
      "237\n",
      "*** 722513 *** \n",
      "0\n",
      "100.92000000000002\n",
      "*** 81 *** \n",
      "148\n",
      "*** 811 *** \n",
      "90\n",
      "*** 8111 *** \n",
      "82\n",
      "*** 81111 *** \n",
      "0\n",
      "24.375\n",
      "*** 811111 *** \n",
      "9\n",
      "*** 811112 *** \n",
      "0\n",
      "7.6875\n",
      "*** 811118 *** \n",
      "0\n",
      "7.6875\n",
      "*** 81112 *** \n",
      "0\n",
      "14.625\n",
      "*** 811121 *** \n",
      "0\n",
      "14.625\n",
      "*** 81119 *** \n",
      "43\n",
      "*** 811191 *** \n",
      "0\n",
      "7.166666666666667\n",
      "*** 811192 *** \n",
      "0\n",
      "7.166666666666667\n",
      "*** 811198 *** \n",
      "0\n",
      "28.666666666666668\n",
      "*** 8113 *** \n",
      "0\n",
      "3.2\n",
      "*** 81131 *** \n",
      "0\n",
      "3.2\n",
      "*** 811310 *** \n",
      "0\n",
      "3.2\n",
      "*** 8114 *** \n",
      "0\n",
      "4.8\n",
      "*** 81141 *** \n",
      "0\n",
      "3.1999999999999997\n",
      "*** 811412 *** \n",
      "0\n",
      "3.1999999999999997\n",
      "*** 81143 *** \n",
      "0\n",
      "1.5999999999999999\n",
      "*** 811430 *** \n",
      "0\n",
      "1.5999999999999999\n",
      "*** 812 *** \n",
      "21\n",
      "*** 8121 *** \n",
      "0\n",
      "5.25\n",
      "*** 81219 *** \n",
      "0\n",
      "5.25\n",
      "*** 812199 *** \n",
      "0\n",
      "5.25\n",
      "*** 8122 *** \n",
      "0\n",
      "2.625\n",
      "*** 81222 *** \n",
      "0\n",
      "2.625\n",
      "*** 812220 *** \n",
      "0\n",
      "2.625\n",
      "*** 8123 *** \n",
      "0\n",
      "2.625\n",
      "*** 81232 *** \n",
      "0\n",
      "2.625\n",
      "*** 812320 *** \n",
      "0\n",
      "2.625\n",
      "*** 8129 *** \n",
      "0\n",
      "10.5\n",
      "*** 81291 *** \n",
      "0\n",
      "5.25\n",
      "*** 812910 *** \n",
      "0\n",
      "5.25\n",
      "*** 81299 *** \n",
      "0\n",
      "5.25\n",
      "*** 812990 *** \n",
      "0\n",
      "5.25\n",
      "*** 813 *** \n",
      "30\n",
      "*** 8133 *** \n",
      "0\n",
      "6.0\n",
      "*** 81331 *** \n",
      "0\n",
      "6.0\n",
      "*** 813312 *** \n",
      "0\n",
      "6.0\n",
      "*** 8134 *** \n",
      "0\n",
      "24.0\n",
      "*** 81341 *** \n",
      "0\n",
      "24.0\n",
      "*** 813410 *** \n",
      "0\n",
      "24.0\n",
      "*** 814 *** \n",
      "7\n",
      "*** 8141 *** \n",
      "7\n",
      "*** 81411 *** \n",
      "7\n",
      "*** 814110 *** \n",
      "7\n",
      "*** 99 *** \n",
      "17\n",
      "*** 999 *** \n",
      "17\n",
      "*** 9999 *** \n",
      "17\n",
      "*** 99999 *** \n",
      "17\n",
      "*** 999999 *** \n",
      "17\n"
     ]
    }
   ],
   "source": [
    "for ind in fetch_values_given_key(county, 'ind', []):\n",
    "    print(f'*** {ind} *** ')\n",
    "    industry = fetch_branch(county, 'ind', ind)\n",
    "    print(industry['emp'])\n",
    "    if industry.get('emp_ps') is not None:\n",
    "        print(industry['emp_ps'])"
   ]
  },
  {
   "cell_type": "code",
   "execution_count": 31,
   "metadata": {},
   "outputs": [
    {
     "name": "stdout",
     "output_type": "stream",
     "text": [
      "2\n",
      "0\n",
      "16.181818181818183\n",
      "ind 52229\n",
      "2\n",
      "0\n",
      "16.181818181818183\n"
     ]
    }
   ],
   "source": [
    "industry = fetch_branch(county, 'ind', '5222')\n",
    "print(industry['est'])\n",
    "print(industry['emp'])\n",
    "if industry.get('emp_ps') is not None:\n",
    "    print(industry['emp_ps'])\n",
    "for child in industry['children']:\n",
    "    print(f\"ind {child['ind']}\")\n",
    "    print(child['est'])\n",
    "    print(child['emp'])\n",
    "    if child.get('emp_ps') is not None:\n",
    "        print(child['emp_ps'])\n"
   ]
  },
  {
   "cell_type": "code",
   "execution_count": 13,
   "metadata": {},
   "outputs": [],
   "source": [
    "# download all 6 digit codes"
   ]
  }
 ],
 "metadata": {
  "kernelspec": {
   "display_name": "env",
   "language": "python",
   "name": "python3"
  },
  "language_info": {
   "codemirror_mode": {
    "name": "ipython",
    "version": 3
   },
   "file_extension": ".py",
   "mimetype": "text/x-python",
   "name": "python",
   "nbconvert_exporter": "python",
   "pygments_lexer": "ipython3",
   "version": "3.10.4"
  },
  "orig_nbformat": 4,
  "vscode": {
   "interpreter": {
    "hash": "14e238f0422ace89beef5d390dad5b6a63140dd1587467da945499bbb63733f6"
   }
  }
 },
 "nbformat": 4,
 "nbformat_minor": 2
}
