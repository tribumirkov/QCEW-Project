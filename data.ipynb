{
 "cells": [
  {
   "cell_type": "code",
   "execution_count": 24,
   "metadata": {},
   "outputs": [],
   "source": [
    "import numpy as np\n",
    "import pandas as pd\n",
    "\n",
    "from helpers import fetch_area_data\n",
    "from config import settings"
   ]
  },
  {
   "cell_type": "code",
   "execution_count": 25,
   "metadata": {},
   "outputs": [
    {
     "name": "stdout",
     "output_type": "stream",
     "text": [
      "51163 Rockbridge County, Virginia\n"
     ]
    }
   ],
   "source": [
    "print('51163 Rockbridge County, Virginia')\n",
    "df = fetch_area_data('2021','a','51163')"
   ]
  },
  {
   "cell_type": "code",
   "execution_count": 27,
   "metadata": {},
   "outputs": [
    {
     "name": "stdout",
     "output_type": "stream",
     "text": [
      "Total establishments in the county: 533\n",
      "The sum of establishment counts at level 74: 533\n",
      "The sum of establishment counts at level 75: 536\n",
      "The sum of establishment counts at level 76: 539\n",
      "The sum of establishment counts at level 77: 541\n"
     ]
    }
   ],
   "source": [
    "# https://www.bls.gov/cew/classifications/aggregation/agg-level-titles.htm\n",
    "print(f\"Total establishments in the county: {int(df[df['agglvl_code']==70]['annual_avg_estabs'])}\") \n",
    "aggregations = range(74,78)\n",
    "for aggregation in aggregations:\n",
    "    print(f\"The sum of establishment counts at level {aggregation}: {np.sum(df[df['agglvl_code']==aggregation]['annual_avg_estabs'])}\")"
   ]
  }
 ],
 "metadata": {
  "kernelspec": {
   "display_name": "env",
   "language": "python",
   "name": "python3"
  },
  "language_info": {
   "codemirror_mode": {
    "name": "ipython",
    "version": 3
   },
   "file_extension": ".py",
   "mimetype": "text/x-python",
   "name": "python",
   "nbconvert_exporter": "python",
   "pygments_lexer": "ipython3",
   "version": "3.10.4"
  },
  "orig_nbformat": 4,
  "vscode": {
   "interpreter": {
    "hash": "15fcb939eff715f77ad1cf73ed0db21369cd56a9cfaf09731d7ae5916519ba96"
   }
  }
 },
 "nbformat": 4,
 "nbformat_minor": 2
}
